{
 "cells": [
  {
   "cell_type": "markdown",
   "metadata": {
    "id": "h2q27gKz1H20"
   },
   "source": [
    "##### Copyright 2021 The TensorFlow Authors."
   ]
  },
  {
   "cell_type": "markdown",
   "metadata": {
    "id": "sr3q-gvm3cI8"
   },
   "source": [
    "The Model Maker library uses *transfer learning* to simplify the process of training a TensorFlow Lite model using a custom dataset. Retraining a TensorFlow Lite model with your own custom dataset reduces the amount of training data required and will shorten the training time.\n",
    "\n",
    "\n",
    "This tutorial uses the EfficientDet-Lite0 model. EfficientDet-Lite[0-4] are a family of mobile/IoT-friendly object detection models derived from the [EfficientDet](https://arxiv.org/abs/1911.09070) architecture."
   ]
  },
  {
   "cell_type": "markdown",
   "source": [
    "## Prerequisites\n",
    "\n",
    "Trust the 'requirements.txt' file to install the correct versions of the packages, and install them in one go :"
   ],
   "metadata": {
    "collapsed": false
   }
  },
  {
   "cell_type": "code",
   "outputs": [
    {
     "name": "stdout",
     "output_type": "stream",
     "text": [
      "Requirement already satisfied: roboflow in /home/theojeannes/anaconda3/envs/tflite-model-maker/lib/python3.9/site-packages (1.1.15)\r\n",
      "Requirement already satisfied: certifi==2023.7.22 in /home/theojeannes/anaconda3/envs/tflite-model-maker/lib/python3.9/site-packages (from roboflow) (2023.7.22)\r\n",
      "Requirement already satisfied: chardet==4.0.0 in /home/theojeannes/anaconda3/envs/tflite-model-maker/lib/python3.9/site-packages (from roboflow) (4.0.0)\r\n",
      "Requirement already satisfied: cycler==0.10.0 in /home/theojeannes/anaconda3/envs/tflite-model-maker/lib/python3.9/site-packages (from roboflow) (0.10.0)\r\n",
      "Requirement already satisfied: idna==2.10 in /home/theojeannes/anaconda3/envs/tflite-model-maker/lib/python3.9/site-packages (from roboflow) (2.10)\r\n",
      "Requirement already satisfied: kiwisolver>=1.3.1 in /home/theojeannes/anaconda3/envs/tflite-model-maker/lib/python3.9/site-packages (from roboflow) (1.4.5)\r\n",
      "Requirement already satisfied: matplotlib in /home/theojeannes/anaconda3/envs/tflite-model-maker/lib/python3.9/site-packages (from roboflow) (3.8.2)\r\n",
      "Requirement already satisfied: numpy>=1.18.5 in /home/theojeannes/anaconda3/envs/tflite-model-maker/lib/python3.9/site-packages (from roboflow) (1.23.1)\r\n",
      "Requirement already satisfied: opencv-python-headless==4.8.0.74 in /home/theojeannes/anaconda3/envs/tflite-model-maker/lib/python3.9/site-packages (from roboflow) (4.8.0.74)\r\n",
      "Requirement already satisfied: Pillow>=7.1.2 in /home/theojeannes/anaconda3/envs/tflite-model-maker/lib/python3.9/site-packages (from roboflow) (10.2.0)\r\n",
      "Requirement already satisfied: pyparsing==2.4.7 in /home/theojeannes/anaconda3/envs/tflite-model-maker/lib/python3.9/site-packages (from roboflow) (2.4.7)\r\n",
      "Requirement already satisfied: python-dateutil in /home/theojeannes/anaconda3/envs/tflite-model-maker/lib/python3.9/site-packages (from roboflow) (2.8.2)\r\n",
      "Requirement already satisfied: python-dotenv in /home/theojeannes/anaconda3/envs/tflite-model-maker/lib/python3.9/site-packages (from roboflow) (1.0.0)\r\n",
      "Requirement already satisfied: requests in /home/theojeannes/anaconda3/envs/tflite-model-maker/lib/python3.9/site-packages (from roboflow) (2.31.0)\r\n",
      "Requirement already satisfied: six in /home/theojeannes/anaconda3/envs/tflite-model-maker/lib/python3.9/site-packages (from roboflow) (1.16.0)\r\n",
      "Requirement already satisfied: supervision in /home/theojeannes/anaconda3/envs/tflite-model-maker/lib/python3.9/site-packages (from roboflow) (0.17.1)\r\n",
      "Requirement already satisfied: urllib3>=1.26.6 in /home/theojeannes/anaconda3/envs/tflite-model-maker/lib/python3.9/site-packages (from roboflow) (2.1.0)\r\n",
      "Requirement already satisfied: tqdm>=4.41.0 in /home/theojeannes/anaconda3/envs/tflite-model-maker/lib/python3.9/site-packages (from roboflow) (4.66.1)\r\n",
      "Requirement already satisfied: PyYAML>=5.3.1 in /home/theojeannes/anaconda3/envs/tflite-model-maker/lib/python3.9/site-packages (from roboflow) (6.0.1)\r\n",
      "Requirement already satisfied: requests-toolbelt in /home/theojeannes/anaconda3/envs/tflite-model-maker/lib/python3.9/site-packages (from roboflow) (1.0.0)\r\n",
      "Requirement already satisfied: python-magic in /home/theojeannes/anaconda3/envs/tflite-model-maker/lib/python3.9/site-packages (from roboflow) (0.4.27)\r\n",
      "Requirement already satisfied: contourpy>=1.0.1 in /home/theojeannes/anaconda3/envs/tflite-model-maker/lib/python3.9/site-packages (from matplotlib->roboflow) (1.2.0)\r\n",
      "Requirement already satisfied: fonttools>=4.22.0 in /home/theojeannes/anaconda3/envs/tflite-model-maker/lib/python3.9/site-packages (from matplotlib->roboflow) (4.47.0)\r\n",
      "Requirement already satisfied: packaging>=20.0 in /home/theojeannes/anaconda3/envs/tflite-model-maker/lib/python3.9/site-packages (from matplotlib->roboflow) (23.2)\r\n",
      "Requirement already satisfied: importlib-resources>=3.2.0 in /home/theojeannes/anaconda3/envs/tflite-model-maker/lib/python3.9/site-packages (from matplotlib->roboflow) (6.1.1)\r\n",
      "Requirement already satisfied: charset-normalizer<4,>=2 in /home/theojeannes/anaconda3/envs/tflite-model-maker/lib/python3.9/site-packages (from requests->roboflow) (3.3.2)\r\n",
      "Requirement already satisfied: scipy>=1.9.0 in /home/theojeannes/anaconda3/envs/tflite-model-maker/lib/python3.9/site-packages (from supervision->roboflow) (1.11.4)\r\n",
      "Requirement already satisfied: zipp>=3.1.0 in /home/theojeannes/anaconda3/envs/tflite-model-maker/lib/python3.9/site-packages (from importlib-resources>=3.2.0->matplotlib->roboflow) (3.17.0)\r\n",
      "Found existing installation: tensorflow 2.8.4\r\n",
      "Uninstalling tensorflow-2.8.4:\r\n",
      "  Successfully uninstalled tensorflow-2.8.4\r\n",
      "\u001B[31mERROR: pip's dependency resolver does not currently take into account all the packages that are installed. This behaviour is the source of the following dependency conflicts.\r\n",
      "tensorflowjs 3.18.0 requires packaging~=20.9, but you have packaging 23.2 which is incompatible.\r\n",
      "tflite-model-maker 0.4.2 requires matplotlib<3.5.0,>=3.0.3, but you have matplotlib 3.8.2 which is incompatible.\r\n",
      "tflite-model-maker 0.4.2 requires urllib3!=1.25.0,!=1.25.1,<1.26,>=1.21.1, but you have urllib3 2.1.0 which is incompatible.\u001B[0m\u001B[31m\r\n",
      "\u001B[0m"
     ]
    }
   ],
   "source": [
    "# !pip install -r requirements.txt\n",
    "# !pip install roboflow\n",
    "# !pip uninstall -y tensorflow && pip install -q tensorflow==2.8.0"
   ],
   "metadata": {
    "collapsed": false,
    "ExecuteTime": {
     "end_time": "2024-01-06T10:00:13.811624711Z",
     "start_time": "2024-01-06T09:59:56.358949485Z"
    }
   },
   "execution_count": 3
  },
  {
   "cell_type": "markdown",
   "metadata": {
    "id": "l6lRhVK9Q_0U"
   },
   "source": [
    "Import the required packages. Those marked as unused are still necessary to make the Model Maker library work."
   ]
  },
  {
   "cell_type": "code",
   "outputs": [
    {
     "name": "stdout",
     "output_type": "stream",
     "text": [
      "Requirement already satisfied: roboflow in /home/theojeannes/anaconda3/envs/tflite-model-maker/lib/python3.9/site-packages (1.1.15)\r\n",
      "Requirement already satisfied: certifi==2023.7.22 in /home/theojeannes/anaconda3/envs/tflite-model-maker/lib/python3.9/site-packages (from roboflow) (2023.7.22)\r\n",
      "Requirement already satisfied: chardet==4.0.0 in /home/theojeannes/anaconda3/envs/tflite-model-maker/lib/python3.9/site-packages (from roboflow) (4.0.0)\r\n",
      "Requirement already satisfied: cycler==0.10.0 in /home/theojeannes/anaconda3/envs/tflite-model-maker/lib/python3.9/site-packages (from roboflow) (0.10.0)\r\n",
      "Requirement already satisfied: idna==2.10 in /home/theojeannes/anaconda3/envs/tflite-model-maker/lib/python3.9/site-packages (from roboflow) (2.10)\r\n",
      "Requirement already satisfied: kiwisolver>=1.3.1 in /home/theojeannes/anaconda3/envs/tflite-model-maker/lib/python3.9/site-packages (from roboflow) (1.4.5)\r\n",
      "Requirement already satisfied: matplotlib in /home/theojeannes/anaconda3/envs/tflite-model-maker/lib/python3.9/site-packages (from roboflow) (3.8.2)\r\n",
      "Requirement already satisfied: numpy>=1.18.5 in /home/theojeannes/anaconda3/envs/tflite-model-maker/lib/python3.9/site-packages (from roboflow) (1.23.1)\r\n",
      "Requirement already satisfied: opencv-python-headless==4.8.0.74 in /home/theojeannes/anaconda3/envs/tflite-model-maker/lib/python3.9/site-packages (from roboflow) (4.8.0.74)\r\n",
      "Requirement already satisfied: Pillow>=7.1.2 in /home/theojeannes/anaconda3/envs/tflite-model-maker/lib/python3.9/site-packages (from roboflow) (10.2.0)\r\n",
      "Requirement already satisfied: pyparsing==2.4.7 in /home/theojeannes/anaconda3/envs/tflite-model-maker/lib/python3.9/site-packages (from roboflow) (2.4.7)\r\n",
      "Requirement already satisfied: python-dateutil in /home/theojeannes/anaconda3/envs/tflite-model-maker/lib/python3.9/site-packages (from roboflow) (2.8.2)\r\n",
      "Requirement already satisfied: python-dotenv in /home/theojeannes/anaconda3/envs/tflite-model-maker/lib/python3.9/site-packages (from roboflow) (1.0.0)\r\n",
      "Requirement already satisfied: requests in /home/theojeannes/anaconda3/envs/tflite-model-maker/lib/python3.9/site-packages (from roboflow) (2.31.0)\r\n",
      "Requirement already satisfied: six in /home/theojeannes/anaconda3/envs/tflite-model-maker/lib/python3.9/site-packages (from roboflow) (1.16.0)\r\n",
      "Requirement already satisfied: supervision in /home/theojeannes/anaconda3/envs/tflite-model-maker/lib/python3.9/site-packages (from roboflow) (0.17.1)\r\n",
      "Requirement already satisfied: urllib3>=1.26.6 in /home/theojeannes/anaconda3/envs/tflite-model-maker/lib/python3.9/site-packages (from roboflow) (2.1.0)\r\n",
      "Requirement already satisfied: tqdm>=4.41.0 in /home/theojeannes/anaconda3/envs/tflite-model-maker/lib/python3.9/site-packages (from roboflow) (4.66.1)\r\n",
      "Requirement already satisfied: PyYAML>=5.3.1 in /home/theojeannes/anaconda3/envs/tflite-model-maker/lib/python3.9/site-packages (from roboflow) (6.0.1)\r\n",
      "Requirement already satisfied: requests-toolbelt in /home/theojeannes/anaconda3/envs/tflite-model-maker/lib/python3.9/site-packages (from roboflow) (1.0.0)\r\n",
      "Requirement already satisfied: python-magic in /home/theojeannes/anaconda3/envs/tflite-model-maker/lib/python3.9/site-packages (from roboflow) (0.4.27)\r\n",
      "Requirement already satisfied: contourpy>=1.0.1 in /home/theojeannes/anaconda3/envs/tflite-model-maker/lib/python3.9/site-packages (from matplotlib->roboflow) (1.2.0)\r\n",
      "Requirement already satisfied: fonttools>=4.22.0 in /home/theojeannes/anaconda3/envs/tflite-model-maker/lib/python3.9/site-packages (from matplotlib->roboflow) (4.47.0)\r\n",
      "Requirement already satisfied: packaging>=20.0 in /home/theojeannes/anaconda3/envs/tflite-model-maker/lib/python3.9/site-packages (from matplotlib->roboflow) (23.2)\r\n",
      "Requirement already satisfied: importlib-resources>=3.2.0 in /home/theojeannes/anaconda3/envs/tflite-model-maker/lib/python3.9/site-packages (from matplotlib->roboflow) (6.1.1)\r\n",
      "Requirement already satisfied: charset-normalizer<4,>=2 in /home/theojeannes/anaconda3/envs/tflite-model-maker/lib/python3.9/site-packages (from requests->roboflow) (3.3.2)\r\n",
      "Requirement already satisfied: scipy>=1.9.0 in /home/theojeannes/anaconda3/envs/tflite-model-maker/lib/python3.9/site-packages (from supervision->roboflow) (1.11.4)\r\n",
      "Requirement already satisfied: zipp>=3.1.0 in /home/theojeannes/anaconda3/envs/tflite-model-maker/lib/python3.9/site-packages (from importlib-resources>=3.2.0->matplotlib->roboflow) (3.17.0)\r\n"
     ]
    }
   ],
   "source": [
    "import numpy as np\n",
    "import pandas as pd\n",
    "import os\n",
    "\n",
    "from tflite_model_maker.config import QuantizationConfig\n",
    "from tflite_model_maker.config import ExportFormat\n",
    "from tflite_model_maker import model_spec\n",
    "from tflite_model_maker import object_detector\n",
    "import pycocotools as pycocotools\n",
    "\n",
    "import tensorflow as tf\n",
    "assert tf.__version__.startswith('2')\n",
    "MODEL_NAME = \"efficientdet_lite4\"\n",
    "tf.get_logger().setLevel('ERROR')\n",
    "\n",
    "from absl import logging\n",
    "logging.set_verbosity(logging.ERROR)"
   ],
   "metadata": {
    "collapsed": false,
    "ExecuteTime": {
     "end_time": "2024-01-06T10:01:09.935346857Z",
     "start_time": "2024-01-06T10:01:08.032665269Z"
    }
   },
   "execution_count": 5
  },
  {
   "cell_type": "markdown",
   "metadata": {
    "id": "BRd13bfetO7B"
   },
   "source": [
    "### Prepare the dataset\n",
    "\n",
    "We need to have a dataset cleaned and ready to be used.\n",
    "\n",
    "The dataset is provided in CSV format:\n",
    "```\n",
    "TRAINING,gs://cloud-ml-data/img/openimage/3/2520/3916261642_0a504acd60_o.jpg,Salad,0.0,0.0954,,,0.977,0.957,,\n",
    "VALIDATION,gs://cloud-ml-data/img/openimage/3/2520/3916261642_0a504acd60_o.jpg,Seafood,0.0154,0.1538,,,1.0,0.802,,\n",
    "TEST,gs://cloud-ml-data/img/openimage/3/2520/3916261642_0a504acd60_o.jpg,Tomato,0.0,0.655,,,0.231,0.839,,\n",
    "```\n",
    "\n",
    "* Each row corresponds to an object localized inside a larger image, with each object specifically designated as test, train, or validation data. You'll learn more about what that means in a later stage in this notebook.\n",
    "* The three lines included here indicate **three distinct objects located inside the same image** available at `gs://cloud-ml-data/img/openimage/3/2520/3916261642_0a504acd60_o.jpg`.\n",
    "* Each row has a different label: `Salad`, `Seafood`, `Tomato`, etc.\n",
    "* Bounding boxes are specified for each image using the top left and bottom right vertices.\n",
    "\n",
    "If you want to know more about how to prepare your own CSV file and the minimum requirements for creating a valid dataset, see the [Preparing your training data](https://cloud.google.com/vision/automl/object-detection/docs/prepare) guide for more details.\n",
    "\n",
    "If you are new to Google Cloud, you may wonder what the `gs://` URL means. They are URLs of files stored on [Google Cloud Storage](https://cloud.google.com/storage) (GCS). If you make your files on GCS public or [authenticate your client](https://cloud.google.com/storage/docs/authentication#libauth), Model Maker can read those files similarly to your local files.\n",
    "\n",
    "However, you don't need to keep your images on Google Cloud to use Model Maker. You can use a local path in your CSV file and Model Maker will just work.\n",
    "\n",
    "## Quickstart"
   ]
  },
  {
   "cell_type": "code",
   "execution_count": 6,
   "metadata": {
    "id": "CtdZ-JDwMimd",
    "ExecuteTime": {
     "end_time": "2024-01-06T10:01:15.982630776Z",
     "start_time": "2024-01-06T10:01:15.923504671Z"
    }
   },
   "outputs": [
    {
     "name": "stderr",
     "output_type": "stream",
     "text": [
      "2024-01-06 11:01:15.910482: W tensorflow/stream_executor/platform/default/dso_loader.cc:64] Could not load dynamic library 'libcuda.so.1'; dlerror: libcuda.so.1: cannot open shared object file: No such file or directory; LD_LIBRARY_PATH: /home/theojeannes/anaconda3/envs/tflite-model-maker/lib/python3.9/site-packages/cv2/../../lib64:\n",
      "2024-01-06 11:01:15.910522: W tensorflow/stream_executor/cuda/cuda_driver.cc:269] failed call to cuInit: UNKNOWN ERROR (303)\n",
      "2024-01-06 11:01:15.910556: I tensorflow/stream_executor/cuda/cuda_diagnostics.cc:156] kernel driver does not appear to be running on this host (theojeannes): /proc/driver/nvidia/version does not exist\n",
      "2024-01-06 11:01:15.913584: I tensorflow/core/platform/cpu_feature_guard.cc:151] This TensorFlow binary is optimized with oneAPI Deep Neural Network Library (oneDNN) to use the following CPU instructions in performance-critical operations:  AVX2 FMA\n",
      "To enable them in other operations, rebuild TensorFlow with the appropriate compiler flags.\n"
     ]
    }
   ],
   "source": [
    "spec = model_spec.get(MODEL_NAME)"
   ]
  },
  {
   "cell_type": "markdown",
   "metadata": {
    "id": "s5U-A3tw6Y27"
   },
   "source": [
    "Import**Step 2. Load the dataset.**\n",
    "\n",
    "Model Maker will take input data in the CSV format. Use the `object_detector.DataLoader.from_csv` method to load the dataset and split them into the training, validation and test images.\n",
    "\n",
    "* Training images: These images are used to train the object detection model to recognize salad ingredients.\n",
    "* Validation images: These are images that the model didn't see during the training process. You'll use them to decide when you should stop the training, to avoid [overfitting](https://en.wikipedia.org/wiki/Overfitting).\n",
    "* Test images: These images are used to evaluate the final model performance.\n",
    "\n",
    "You can load the CSV file directly from Google Cloud Storage, but you don't need to keep your images on Google Cloud to use Model Maker. You can specify a local CSV file on your computer, and Model Maker will work just fine."
   ]
  },
  {
   "cell_type": "code",
   "execution_count": 38,
   "metadata": {
    "id": "HD5BvzWe6YKa",
    "ExecuteTime": {
     "end_time": "2024-01-05T14:58:06.592779640Z",
     "start_time": "2024-01-05T14:52:05.063731631Z"
    }
   },
   "outputs": [],
   "source": [
    "train_data, validation_data, test_data = object_detector.DataLoader.from_csv('gs://cloud-ml-data/img/openimage/csv/salads_ml_use.csv')"
   ]
  },
  {
   "cell_type": "markdown",
   "metadata": {
    "id": "2uZkLR6N6gDR"
   },
   "source": [
    "**Step 3. Train the TensorFlow model with the training data.**\n",
    "\n",
    "* `epochs = 50` by default, which means it will go through the training dataset 50 times. You can look at the validation accuracy during training and stop early to avoid overfitting.\n",
    "* Set `batch_size = 8`, size of one batch (how many rough the 175 images in the training dataset.\n",
    "* Set `train_whole_model=True` to fine-tune the whole model instead of just training the head layer to improve accuracy. The trade-off is that it may take longer to train the model."
   ]
  },
  {
   "cell_type": "code",
   "execution_count": null,
   "metadata": {
    "id": "kwlYdTcg63xy",
    "ExecuteTime": {
     "start_time": "2024-01-05T14:58:06.615768256Z"
    }
   },
   "outputs": [
    {
     "name": "stdout",
     "output_type": "stream",
     "text": [
      "Epoch 1/50\n"
     ]
    },
    {
     "name": "stderr",
     "output_type": "stream",
     "text": [
      "2024-01-05 15:58:51.295428: W tensorflow/core/framework/dataset.cc:768] Input of GeneratorDatasetOp::Dataset will not be optimized because the dataset does not implement the AsGraphDefInternal() method needed to apply optimizations.\n"
     ]
    },
    {
     "name": "stdout",
     "output_type": "stream",
     "text": [
      "21/21 [==============================] - ETA: 0s - det_loss: 1.7212 - cls_loss: 1.1397 - box_loss: 0.0116 - reg_l2_loss: 0.1083 - loss: 1.8295 - learning_rate: 0.0090 - gradient_norm: 0.5891  "
     ]
    },
    {
     "name": "stderr",
     "output_type": "stream",
     "text": [
      "2024-01-05 16:25:16.104220: W tensorflow/core/framework/dataset.cc:768] Input of GeneratorDatasetOp::Dataset will not be optimized because the dataset does not implement the AsGraphDefInternal() method needed to apply optimizations.\n"
     ]
    },
    {
     "name": "stdout",
     "output_type": "stream",
     "text": [
      "21/21 [==============================] - 1607s 74s/step - det_loss: 1.7168 - cls_loss: 1.1391 - box_loss: 0.0116 - reg_l2_loss: 0.1083 - loss: 1.8251 - learning_rate: 0.0090 - gradient_norm: 0.5937 - val_det_loss: 1.6749 - val_cls_loss: 1.1234 - val_box_loss: 0.0110 - val_reg_l2_loss: 0.1083 - val_loss: 1.7833\n",
      "Epoch 2/50\n",
      "21/21 [==============================] - ETA: 0s - det_loss: 1.5645 - cls_loss: 1.0955 - box_loss: 0.0094 - reg_l2_loss: 0.1083 - loss: 1.6728 - learning_rate: 0.0100 - gradient_norm: 0.9546  "
     ]
    },
    {
     "name": "stderr",
     "output_type": "stream",
     "text": [
      "2024-01-05 16:52:06.852650: W tensorflow/core/framework/dataset.cc:768] Input of GeneratorDatasetOp::Dataset will not be optimized because the dataset does not implement the AsGraphDefInternal() method needed to apply optimizations.\n"
     ]
    },
    {
     "name": "stdout",
     "output_type": "stream",
     "text": [
      "21/21 [==============================] - 1606s 76s/step - det_loss: 1.5591 - cls_loss: 1.0932 - box_loss: 0.0093 - reg_l2_loss: 0.1083 - loss: 1.6674 - learning_rate: 0.0100 - gradient_norm: 1.0200 - val_det_loss: 1.5635 - val_cls_loss: 1.0553 - val_box_loss: 0.0102 - val_reg_l2_loss: 0.1083 - val_loss: 1.6718\n",
      "Epoch 3/50\n",
      "19/21 [==========================>...] - ETA: 2:34 - det_loss: 1.3828 - cls_loss: 0.9904 - box_loss: 0.0078 - reg_l2_loss: 0.1083 - loss: 1.4912 - learning_rate: 0.0099 - gradient_norm: 1.7392"
     ]
    },
    {
     "name": "stderr",
     "output_type": "stream",
     "text": [
      "2024-01-05 17:17:06.610893: I tensorflow/core/kernels/data/shuffle_dataset_op.cc:390] Filling up shuffle buffer (this may take a while): 58 of 64\n",
      "2024-01-05 17:17:06.779311: I tensorflow/core/kernels/data/shuffle_dataset_op.cc:415] Shuffle buffer filled.\n"
     ]
    },
    {
     "name": "stdout",
     "output_type": "stream",
     "text": [
      "21/21 [==============================] - ETA: 0s - det_loss: 1.3752 - cls_loss: 0.9851 - box_loss: 0.0078 - reg_l2_loss: 0.1083 - loss: 1.4836 - learning_rate: 0.0099 - gradient_norm: 1.7645  "
     ]
    },
    {
     "name": "stderr",
     "output_type": "stream",
     "text": [
      "2024-01-05 17:19:38.541491: W tensorflow/core/framework/dataset.cc:768] Input of GeneratorDatasetOp::Dataset will not be optimized because the dataset does not implement the AsGraphDefInternal() method needed to apply optimizations.\n"
     ]
    },
    {
     "name": "stdout",
     "output_type": "stream",
     "text": [
      "21/21 [==============================] - 1651s 78s/step - det_loss: 1.3687 - cls_loss: 0.9803 - box_loss: 0.0078 - reg_l2_loss: 0.1083 - loss: 1.4771 - learning_rate: 0.0099 - gradient_norm: 1.7618 - val_det_loss: 1.5439 - val_cls_loss: 1.0711 - val_box_loss: 0.0095 - val_reg_l2_loss: 0.1083 - val_loss: 1.6523\n",
      "Epoch 4/50\n",
      "21/21 [==============================] - ETA: 0s - det_loss: 1.1247 - cls_loss: 0.8066 - box_loss: 0.0064 - reg_l2_loss: 0.1084 - loss: 1.2331 - learning_rate: 0.0099 - gradient_norm: 2.2757  "
     ]
    },
    {
     "name": "stderr",
     "output_type": "stream",
     "text": [
      "2024-01-05 17:46:48.040454: W tensorflow/core/framework/dataset.cc:768] Input of GeneratorDatasetOp::Dataset will not be optimized because the dataset does not implement the AsGraphDefInternal() method needed to apply optimizations.\n"
     ]
    },
    {
     "name": "stdout",
     "output_type": "stream",
     "text": [
      "21/21 [==============================] - 1660s 79s/step - det_loss: 1.1129 - cls_loss: 0.7975 - box_loss: 0.0063 - reg_l2_loss: 0.1084 - loss: 1.2212 - learning_rate: 0.0099 - gradient_norm: 2.3212 - val_det_loss: 1.3454 - val_cls_loss: 0.9249 - val_box_loss: 0.0084 - val_reg_l2_loss: 0.1084 - val_loss: 1.4538\n",
      "Epoch 5/50\n",
      "21/21 [==============================] - ETA: 0s - det_loss: 0.9580 - cls_loss: 0.6917 - box_loss: 0.0053 - reg_l2_loss: 0.1084 - loss: 1.0664 - learning_rate: 0.0098 - gradient_norm: 2.3435  "
     ]
    },
    {
     "name": "stderr",
     "output_type": "stream",
     "text": [
      "2024-01-05 18:14:54.722439: W tensorflow/core/framework/dataset.cc:768] Input of GeneratorDatasetOp::Dataset will not be optimized because the dataset does not implement the AsGraphDefInternal() method needed to apply optimizations.\n"
     ]
    },
    {
     "name": "stdout",
     "output_type": "stream",
     "text": [
      "21/21 [==============================] - 1678s 80s/step - det_loss: 0.9610 - cls_loss: 0.6950 - box_loss: 0.0053 - reg_l2_loss: 0.1084 - loss: 1.0693 - learning_rate: 0.0098 - gradient_norm: 2.3703 - val_det_loss: 1.1768 - val_cls_loss: 0.7823 - val_box_loss: 0.0079 - val_reg_l2_loss: 0.1084 - val_loss: 1.2852\n",
      "Epoch 6/50\n",
      "21/21 [==============================] - ETA: 0s - det_loss: 0.9027 - cls_loss: 0.6498 - box_loss: 0.0051 - reg_l2_loss: 0.1084 - loss: 1.0111 - learning_rate: 0.0097 - gradient_norm: 2.5521  "
     ]
    },
    {
     "name": "stderr",
     "output_type": "stream",
     "text": [
      "2024-01-05 18:43:40.330411: W tensorflow/core/framework/dataset.cc:768] Input of GeneratorDatasetOp::Dataset will not be optimized because the dataset does not implement the AsGraphDefInternal() method needed to apply optimizations.\n"
     ]
    },
    {
     "name": "stdout",
     "output_type": "stream",
     "text": [
      "21/21 [==============================] - 1705s 81s/step - det_loss: 0.8981 - cls_loss: 0.6450 - box_loss: 0.0051 - reg_l2_loss: 0.1084 - loss: 1.0065 - learning_rate: 0.0097 - gradient_norm: 2.5327 - val_det_loss: 1.1224 - val_cls_loss: 0.7465 - val_box_loss: 0.0075 - val_reg_l2_loss: 0.1084 - val_loss: 1.2308\n",
      "Epoch 7/50\n",
      "21/21 [==============================] - ETA: 0s - det_loss: 0.8333 - cls_loss: 0.5935 - box_loss: 0.0048 - reg_l2_loss: 0.1084 - loss: 0.9417 - learning_rate: 0.0096 - gradient_norm: 2.4408  "
     ]
    },
    {
     "name": "stderr",
     "output_type": "stream",
     "text": [
      "2024-01-05 19:12:27.607440: W tensorflow/core/framework/dataset.cc:768] Input of GeneratorDatasetOp::Dataset will not be optimized because the dataset does not implement the AsGraphDefInternal() method needed to apply optimizations.\n"
     ]
    },
    {
     "name": "stdout",
     "output_type": "stream",
     "text": [
      "21/21 [==============================] - 1730s 82s/step - det_loss: 0.8367 - cls_loss: 0.5952 - box_loss: 0.0048 - reg_l2_loss: 0.1084 - loss: 0.9451 - learning_rate: 0.0096 - gradient_norm: 2.4438 - val_det_loss: 1.0376 - val_cls_loss: 0.6970 - val_box_loss: 0.0068 - val_reg_l2_loss: 0.1084 - val_loss: 1.1460\n",
      "Epoch 8/50\n",
      "21/21 [==============================] - ETA: 0s - det_loss: 0.7800 - cls_loss: 0.5607 - box_loss: 0.0044 - reg_l2_loss: 0.1084 - loss: 0.8884 - learning_rate: 0.0094 - gradient_norm: 2.8153  "
     ]
    },
    {
     "name": "stderr",
     "output_type": "stream",
     "text": [
      "2024-01-05 19:40:56.324685: W tensorflow/core/framework/dataset.cc:768] Input of GeneratorDatasetOp::Dataset will not be optimized because the dataset does not implement the AsGraphDefInternal() method needed to apply optimizations.\n"
     ]
    },
    {
     "name": "stdout",
     "output_type": "stream",
     "text": [
      "21/21 [==============================] - 1705s 81s/step - det_loss: 0.7823 - cls_loss: 0.5623 - box_loss: 0.0044 - reg_l2_loss: 0.1084 - loss: 0.8908 - learning_rate: 0.0094 - gradient_norm: 3.1419 - val_det_loss: 1.0011 - val_cls_loss: 0.6570 - val_box_loss: 0.0069 - val_reg_l2_loss: 0.1084 - val_loss: 1.1096\n",
      "Epoch 9/50\n",
      "21/21 [==============================] - ETA: 0s - det_loss: 0.7576 - cls_loss: 0.5485 - box_loss: 0.0042 - reg_l2_loss: 0.1084 - loss: 0.8660 - learning_rate: 0.0093 - gradient_norm: 2.5458  "
     ]
    },
    {
     "name": "stderr",
     "output_type": "stream",
     "text": [
      "2024-01-05 20:09:55.900523: W tensorflow/core/framework/dataset.cc:768] Input of GeneratorDatasetOp::Dataset will not be optimized because the dataset does not implement the AsGraphDefInternal() method needed to apply optimizations.\n"
     ]
    },
    {
     "name": "stdout",
     "output_type": "stream",
     "text": [
      "21/21 [==============================] - 1741s 83s/step - det_loss: 0.7595 - cls_loss: 0.5490 - box_loss: 0.0042 - reg_l2_loss: 0.1084 - loss: 0.8679 - learning_rate: 0.0093 - gradient_norm: 2.5257 - val_det_loss: 0.9719 - val_cls_loss: 0.6353 - val_box_loss: 0.0067 - val_reg_l2_loss: 0.1084 - val_loss: 1.0804\n",
      "Epoch 10/50\n",
      "21/21 [==============================] - ETA: 0s - det_loss: 0.7173 - cls_loss: 0.5187 - box_loss: 0.0040 - reg_l2_loss: 0.1085 - loss: 0.8257 - learning_rate: 0.0091 - gradient_norm: 2.4674  "
     ]
    },
    {
     "name": "stderr",
     "output_type": "stream",
     "text": [
      "2024-01-05 20:39:20.013328: W tensorflow/core/framework/dataset.cc:768] Input of GeneratorDatasetOp::Dataset will not be optimized because the dataset does not implement the AsGraphDefInternal() method needed to apply optimizations.\n"
     ]
    },
    {
     "name": "stdout",
     "output_type": "stream",
     "text": [
      "21/21 [==============================] - 1780s 85s/step - det_loss: 0.7205 - cls_loss: 0.5200 - box_loss: 0.0040 - reg_l2_loss: 0.1085 - loss: 0.8290 - learning_rate: 0.0091 - gradient_norm: 2.4904 - val_det_loss: 0.9199 - val_cls_loss: 0.6067 - val_box_loss: 0.0063 - val_reg_l2_loss: 0.1085 - val_loss: 1.0283\n",
      "Epoch 11/50\n",
      "21/21 [==============================] - ETA: 0s - det_loss: 0.6900 - cls_loss: 0.4977 - box_loss: 0.0038 - reg_l2_loss: 0.1085 - loss: 0.7984 - learning_rate: 0.0089 - gradient_norm: 2.6997  "
     ]
    },
    {
     "name": "stderr",
     "output_type": "stream",
     "text": [
      "2024-01-05 21:09:15.699115: W tensorflow/core/framework/dataset.cc:768] Input of GeneratorDatasetOp::Dataset will not be optimized because the dataset does not implement the AsGraphDefInternal() method needed to apply optimizations.\n"
     ]
    },
    {
     "name": "stdout",
     "output_type": "stream",
     "text": [
      "21/21 [==============================] - 1807s 86s/step - det_loss: 0.6955 - cls_loss: 0.5018 - box_loss: 0.0039 - reg_l2_loss: 0.1085 - loss: 0.8040 - learning_rate: 0.0089 - gradient_norm: 2.7983 - val_det_loss: 0.9187 - val_cls_loss: 0.6163 - val_box_loss: 0.0060 - val_reg_l2_loss: 0.1085 - val_loss: 1.0271\n",
      "Epoch 12/50\n",
      "21/21 [==============================] - ETA: 0s - det_loss: 0.6525 - cls_loss: 0.4691 - box_loss: 0.0037 - reg_l2_loss: 0.1085 - loss: 0.7610 - learning_rate: 0.0087 - gradient_norm: 2.7696  "
     ]
    },
    {
     "name": "stderr",
     "output_type": "stream",
     "text": [
      "2024-01-05 21:40:01.998898: W tensorflow/core/framework/dataset.cc:768] Input of GeneratorDatasetOp::Dataset will not be optimized because the dataset does not implement the AsGraphDefInternal() method needed to apply optimizations.\n"
     ]
    },
    {
     "name": "stdout",
     "output_type": "stream",
     "text": [
      "21/21 [==============================] - 1820s 86s/step - det_loss: 0.6488 - cls_loss: 0.4668 - box_loss: 0.0036 - reg_l2_loss: 0.1085 - loss: 0.7572 - learning_rate: 0.0087 - gradient_norm: 2.7693 - val_det_loss: 0.9291 - val_cls_loss: 0.6129 - val_box_loss: 0.0063 - val_reg_l2_loss: 0.1085 - val_loss: 1.0376\n",
      "Epoch 13/50\n",
      " 7/21 [=========>....................] - ETA: 19:48 - det_loss: 0.6753 - cls_loss: 0.4803 - box_loss: 0.0039 - reg_l2_loss: 0.1085 - loss: 0.7838 - learning_rate: 0.0086 - gradient_norm: 2.6146"
     ]
    }
   ],
   "source": [
    "model = object_detector.create(train_data, model_spec=spec, batch_size=8, train_whole_model=True, validation_data=validation_data,epochs=3)"
   ]
  },
  {
   "cell_type": "markdown",
   "metadata": {
    "id": "-BzCHLWJ6h7q"
   },
   "source": [
    "**Step 4. Evaluate the model with the test data.**\n",
    "\n",
    "We are mainly interested in the AP75 (which is the mAP with IoU threshold 0.75) and ARmax10(Average Recall, and we use the top 10 confidence threshold to say if a result is a true positive or a false positive). The higher the better. Here we are evaluating on the model"
   ]
  },
  {
   "cell_type": "code",
   "outputs": [],
   "source": [
    "metrics = ['AP75','APs','APm','APl','ARmax10','ARs','ARm','ARl']"
   ],
   "metadata": {
    "collapsed": false,
    "ExecuteTime": {
     "start_time": "2024-01-05T20:51:42.043874009Z"
    }
   }
  },
  {
   "cell_type": "code",
   "outputs": [],
   "source": [
    "res = model.evaluate(test_data)\n",
    "data = {m: res[m] for m in metrics}\n",
    "df = pd.DataFrame(list(data.items()), columns=['Metric', 'Vanilla'])\n",
    "\n",
    "# Set 'Metric' as the index\n",
    "df.set_index('Metric', inplace=True)\n",
    "df"
   ],
   "metadata": {
    "collapsed": false,
    "ExecuteTime": {
     "start_time": "2024-01-05T20:51:42.053561137Z"
    }
   }
  },
  {
   "cell_type": "markdown",
   "metadata": {
    "id": "CgCDMe0e6jlT"
   },
   "source": [
    "**Step 5.  Export as a TensorFlow Lite model.**\n",
    "\n",
    "Export the trained object detection model to the TensorFlow Lite format by specifying which folder you want to export the quantized model to. The default post-training quantization technique is full integer quantization.\n",
    "\n",
    "Several factors can affect the model accuracy when exporting to TFLite:\n",
    "* [Quantization](https://www.tensorflow.org/lite/performance/model_optimization) helps shrinking the model size by 4 times at the expense of some accuracy drop.\n",
    "* The original TensorFlow model uses per-class [non-max supression (NMS)](https://www.coursera.org/lecture/convolutional-neural-networks/non-max-suppression-dvrjH) for post-processing, while the TFLite model uses global NMS that's much faster but less accurate.\n",
    "Keras outputs maximum 100 detections while tflite outputs maximum 25 detections.\n",
    "\n",
    "Therefore, you'll have to evaluate the exported TFLite model and compare its accuracy with the original TensorFlow model."
   ]
  },
  {
   "cell_type": "code",
   "outputs": [],
   "source": [
    "quantization_configs = {\n",
    "    'vanilla': None,\n",
    "    'float16': QuantizationConfig.for_float16(),\n",
    "    'float32': QuantizationConfig.for_float32(),\n",
    "}"
   ],
   "metadata": {
    "collapsed": false,
    "ExecuteTime": {
     "start_time": "2024-01-05T20:51:42.055315913Z"
    }
   }
  },
  {
   "cell_type": "code",
   "outputs": [],
   "source": [
    "for k,v in quantization_configs.items():\n",
    "    config_name = MODEL_NAME+\"_\"+k+\".tflite\"\n",
    "    model.export(export_dir='.',tflite_filename=config_name ,quantization_config=v)\n",
    "    res[k] = model.evaluate_tflite(config_name, test_data)\n",
    "    df[k] = res[k][metrics].values()"
   ],
   "metadata": {
    "collapsed": false,
    "ExecuteTime": {
     "start_time": "2024-01-05T20:51:42.055529095Z"
    }
   }
  },
  {
   "cell_type": "code",
   "outputs": [],
   "source": [
    "df"
   ],
   "metadata": {
    "collapsed": false,
    "ExecuteTime": {
     "start_time": "2024-01-05T20:51:42.055857944Z"
    }
   }
  },
  {
   "cell_type": "markdown",
   "metadata": {
    "id": "me6_RwPZqNhX"
   },
   "source": [
    "## Test the TFLite model on your image\n",
    "\n",
    "Use the app"
   ]
  },
  {
   "cell_type": "markdown",
   "metadata": {
    "id": "p79NHCx0xFqb"
   },
   "source": [
    "### Load the dataset\n",
    "\n",
    "#### Load your own data\n",
    "\n",
    "You can upload your own dataset to work through this tutorial. Upload your dataset by using the left sidebar in Colab.\n",
    "\n",
    "<img src=\"https://storage.googleapis.com/download.tensorflow.org/models/tflite/screenshots/model_maker_object_detection.png\" alt=\"Upload File\" width=\"1000\" hspace=\"0\">\n",
    "\n",
    "If you prefer not to upload your dataset to the cloud, you can also locally run the library by following the [guide](https://github.com/tensorflow/examples/tree/master/tensorflow_examples/lite/model_maker).\n",
    "\n",
    "#### Load your data with a different data format\n",
    "\n",
    "The Model Maker library also supports the `object_detector.DataLoader.from_pascal_voc` method to load data with [PASCAL VOC](https://towardsdatascience.com/coco-data-format-for-object-detection-a4c5eaf518c5#:~:text=Pascal%20VOC%20is%20an%20XML,for%20training%2C%20testing%20and%20validation) format. [makesense.ai](https://www.makesense.ai/) and [LabelImg](https://github.com/tzutalin/labelImg) are the tools that can annotate the image and save annotations as XML files in PASCAL VOC data format:\n",
    "```python\n",
    "object_detector.DataLoader.from_pascal_voc(image_dir, annotations_dir, label_map={1: \"person\", 2: \"notperson\"})\n",
    "```\n"
   ]
  },
  {
   "cell_type": "markdown",
   "metadata": {
    "id": "E8VxPiOLy4Gv"
   },
   "source": [
    "### Customize the EfficientDet model hyperparameters\n",
    "\n",
    "The model and training pipeline parameters you can adjust are:\n",
    "\n",
    "* `model_dir`: The location to save the model checkpoint files. If not set, a temporary directory will be used.\n",
    "* `steps_per_execution`: Number of steps per training execution.\n",
    "* `moving_average_decay`: Float. The decay to use for maintaining moving averages of the trained parameters.\n",
    "* `var_freeze_expr`: The regular expression to map the prefix name of variables to be frozen which means remaining the same during training. More specific, use `re.match(var_freeze_expr, variable_name)` in the codebase to map the variables to be frozen.\n",
    "* `tflite_max_detections`: integer, 25 by default. The max number of output detections in the TFLite model.\n",
    "* `strategy`:  A string specifying which distribution strategy to use. Accepted values are 'tpu', 'gpus', None. tpu' means to use TPUStrategy. 'gpus' mean to use MirroredStrategy for multi-gpus. If None, use TF default with OneDeviceStrategy.\n",
    "* `tpu`:  The Cloud TPU to use for training. This should be either the name used when creating the Cloud TPU, or a grpc://ip.address.of.tpu:8470 url.\n",
    "* `use_xla`: Use XLA even if strategy is not tpu. If strategy is tpu, always use XLA, and this flag has no effect.\n",
    "* `profile`: Enable profile mode.\n",
    "* `debug`: Enable debug mode.\n",
    "\n",
    "Other parameters that can be adjusted is shown in [hparams_config.py](https://github.com/google/automl/blob/df451765d467c5ed78bbdfd632810bc1014b123e/efficientdet/hparams_config.py#L170).\n",
    "\n",
    "\n",
    "For instance, you can set the `var_freeze_expr='efficientnet'` which freezes the variables with name prefix `efficientnet` (default is `'(efficientnet|fpn_cells|resample_p6)'`). This allows the model to freeze untrainable variables and keep their value the same through training.\n",
    "\n",
    "```python\n",
    "spec = model_spec.get('efficientdet_lite0')\n",
    "spec.config.var_freeze_expr = 'efficientnet'\n",
    "```"
   ]
  },
  {
   "cell_type": "markdown",
   "metadata": {
    "id": "4J2qre1fwXsi"
   },
   "source": [
    "### Change the Model Architecture\n",
    "\n",
    "You can change the model architecture by changing the `model_spec`. For instance, change the `model_spec` to the EfficientDet-Lite4 model.\n",
    "\n",
    "```python\n",
    "spec = model_spec.get('efficientdet_lite4')\n",
    "```"
   ]
  },
  {
   "cell_type": "markdown",
   "metadata": {
    "id": "LvQuy7RSDir3"
   },
   "source": [
    "### Tune the training hyperparameters\n",
    "\n",
    "The `create` function is the driver function that the Model Maker library uses to create models. The `model_spec` parameter defines the model specification. The `object_detector.EfficientDetSpec` class is currently supported. The `create` function comprises of the following steps:\n",
    "\n",
    "1. Creates the model for the object detection according to `model_spec`.\n",
    "2. Trains the model.  The default epochs and the default batch size are set by the `epochs` and `batch_size` variables in the `model_spec` object.\n",
    "You can also tune the training hyperparameters like `epochs` and `batch_size` that affect the model accuracy. For instance,\n",
    "\n",
    "*   `epochs`: Integer, 50 by default. More epochs could achieve better accuracy, but may lead to overfitting.\n",
    "*   `batch_size`: Integer, 64 by default. The number of samples to use in one training step.\n",
    "*   `train_whole_model`: Boolean, False by default. If true, train the whole model. Otherwise, only train the layers that do not match `var_freeze_expr`.\n",
    "\n",
    "For example, you can train with less epochs and only the head layer. You can increase the number of epochs for better results.\n",
    "\n",
    "```python\n",
    "model = object_detector.create(train_data, model_spec=spec, epochs=10, validation_data=validation_data)\n",
    "```"
   ]
  },
  {
   "cell_type": "markdown",
   "metadata": {
    "id": "3vPyZInPxJBT"
   },
   "source": [
    "### Export to different formats"
   ]
  },
  {
   "cell_type": "markdown",
   "metadata": {
    "id": "0xqNIcBM-4YR"
   },
   "source": [
    "The export formats can be one or a list of the following:\n",
    "\n",
    "*   `ExportFormat.TFLITE`\n",
    "*   `ExportFormat.LABEL`\n",
    "*   `ExportFormat.SAVED_MODEL`\n",
    "\n",
    "\n"
   ]
  },
  {
   "cell_type": "markdown",
   "metadata": {
    "id": "enhsZhW3ApcX"
   },
   "source": [
    "By default, it exports only the TensorFlow Lite model file containing the model [metadata](https://www.tensorflow.org/lite/models/convert/metadata) so that you can later use in an on-device ML application. The label file is embedded in metadata.\n",
    "\n",
    "In many on-device ML application, the model size is an important factor. Therefore, it is recommended that you quantize the model to make it smaller and potentially run faster. As for EfficientDet-Lite models, full integer quantization  is used to quantize the model by default. Please refer to [Post-training quantization](https://www.tensorflow.org/lite/performance/post_training_quantization) for more detail.\n",
    "\n",
    "```python\n",
    "model.export(export_dir='.')\n",
    "```"
   ]
  },
  {
   "cell_type": "markdown",
   "metadata": {
    "id": "RLGZs6InAnP5"
   },
   "source": [
    "You can also choose to export other files related to the model for better examination. For instance, exporting both the saved model and the label file as follows:\n",
    "```python\n",
    "model.export(export_dir='.', export_format=[ExportFormat.SAVED_MODEL, ExportFormat.LABEL])\n",
    "```"
   ]
  },
  {
   "cell_type": "markdown",
   "metadata": {
    "id": "W5q_McchQ2C4"
   },
   "source": [
    "### Customize Post-training quantization on the TensorFlow Lite model\n",
    "\n",
    "[Post-training quantization](https://www.tensorflow.org/lite/performance/post_training_quantization) is a conversion technique that can reduce model size and inference latency, while also improving CPU and hardware accelerator inference speed, with a little degradation in model accuracy. Thus, it's widely used to optimize the model.\n",
    "\n",
    "Model Maker library applies a default post-training quantization technique when exporting the model. If you want to customize post-training quantization, Model Maker supports multiple post-training quantization options using [QuantizationConfig](https://www.tensorflow.org/lite/api_docs/python/tflite_model_maker/config/QuantizationConfig) as well. Let's take float16 quantization as an instance. First, define the quantization config.\n",
    "\n",
    "```python\n",
    "config = QuantizationConfig.for_float16()\n",
    "```\n",
    "\n",
    "\n",
    "Then we export the TensorFlow Lite model with such configuration.\n",
    "\n",
    "```python\n",
    "model.export(export_dir='.', tflite_filename='model_fp16.tflite', quantization_config=config)\n",
    "```"
   ]
  },
  {
   "cell_type": "markdown",
   "metadata": {
    "id": "HS4u77W5gnzQ"
   },
   "source": [
    "# Read more\n",
    "\n",
    "You can read our [object detection](https://www.tensorflow.org/lite/examples/object_detection/overview) example to learn technical details. For more information, please refer to:\n",
    "\n",
    "*   TensorFlow Lite Model Maker [guide](https://www.tensorflow.org/lite/models/modify/model_maker) and [API reference](https://www.tensorflow.org/lite/api_docs/python/tflite_model_maker).\n",
    "*   Task Library: [ObjectDetector](https://www.tensorflow.org/lite/inference_with_metadata/task_library/object_detector) for deployment.\n",
    "*   The end-to-end reference apps: [Android](https://github.com/tensorflow/examples/tree/master/lite/examples/object_detection/android), [iOS](https://github.com/tensorflow/examples/tree/master/lite/examples/object_detection/ios), and [Raspberry PI](https://github.com/tensorflow/examples/tree/master/lite/examples/object_detection/raspberry_pi).\n",
    "\n"
   ]
  }
 ],
 "metadata": {
  "accelerator": "GPU",
  "colab": {
   "collapsed_sections": [],
   "name": "Model Maker Object Detection Tutorial",
   "provenance": [
    {
     "file_id": "1dbRXQCjtm-jBFC32DJ6YCVXnXBOG3M5t",
     "timestamp": 1613441434239
    },
    {
     "file_id": "https://github.com/tensorflow/tensorflow/blob/master/tensorflow/lite/g3doc/models/modify/model_maker/text_classification.ipynb",
     "timestamp": 1612303859066
    }
   ],
   "toc_visible": true
  },
  "kernelspec": {
   "name": "python3",
   "language": "python",
   "display_name": "Python 3 (ipykernel)"
  }
 },
 "nbformat": 4,
 "nbformat_minor": 0
}
