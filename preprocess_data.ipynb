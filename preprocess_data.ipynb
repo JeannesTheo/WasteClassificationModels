{
 "cells": [
  {
   "cell_type": "code",
   "outputs": [],
   "source": [
    "import numpy as np\n",
    "import pandas as pd\n",
    "import shutil\n",
    "from roboflow import Roboflow\n",
    "import os\n",
    "import re"
   ],
   "metadata": {
    "collapsed": false,
    "ExecuteTime": {
     "end_time": "2024-01-26T16:04:38.795613141Z",
     "start_time": "2024-01-26T16:04:38.158665415Z"
    }
   },
   "id": "788651877d007054",
   "execution_count": 2
  },
  {
   "cell_type": "code",
   "outputs": [],
   "source": [
    "def clean_up(integral=False):\n",
    "    if os.path.exists('GARBAGE-CLASSIFICATION-3-2'):\n",
    "        shutil.rmtree('GARBAGE-CLASSIFICATION-3-2')\n",
    "    if integral:\n",
    "        if os.path.exists('data'):\n",
    "            shutil.rmtree('data')\n",
    "    else:\n",
    "        for file in os.listdir('data'):\n",
    "            file = os.path.join('data', file)\n",
    "            if os.path.isfile(file):\n",
    "                os.remove(file)\n",
    "\n",
    "def move_files_recursively(src,dest='data',files=None):\n",
    "    if not os.path.exists(dest):\n",
    "        os.makedirs(dest)\n",
    "    files_to_move = []\n",
    "    if files is None:\n",
    "        for root, dirs, files in os.walk(src):\n",
    "            for file in files:\n",
    "                if file.endswith('.jpg'):\n",
    "                    files_to_move.append(os.path.join(root, file))\n",
    "    else:\n",
    "        interesting_files = list(set(files) & set(os.listdir(src)))\n",
    "        for file in interesting_files:\n",
    "            files_to_move.append(os.path.join(src, file))\n",
    "    for file in files_to_move:\n",
    "        shutil.move(file, dest)"
   ],
   "metadata": {
    "collapsed": false,
    "ExecuteTime": {
     "end_time": "2024-01-26T16:04:39.480053433Z",
     "start_time": "2024-01-26T16:04:39.458604946Z"
    }
   },
   "id": "93081d68ef779394",
   "execution_count": 3
  },
  {
   "cell_type": "code",
   "outputs": [
    {
     "name": "stdout",
     "output_type": "stream",
     "text": [
      "loading Roboflow workspace...\n",
      "loading Roboflow project...\n"
     ]
    },
    {
     "name": "stderr",
     "output_type": "stream",
     "text": [
      "Downloading Dataset Version Zip in GARBAGE-CLASSIFICATION-3-2 to tensorflow:: 100%|██████████| 204830/204830 [00:07<00:00, 27379.99it/s]"
     ]
    },
    {
     "name": "stdout",
     "output_type": "stream",
     "text": []
    },
    {
     "name": "stderr",
     "output_type": "stream",
     "text": [
      "\n",
      "Extracting Dataset Version Zip to GARBAGE-CLASSIFICATION-3-2 in tensorflow:: 100%|██████████| 10472/10472 [00:01<00:00, 10141.41it/s]\n"
     ]
    }
   ],
   "source": [
    "clean_up(True)\n",
    "rf = Roboflow(api_key=\"PYZngL70ijcagLdXpb6l\")\n",
    "project = rf.workspace(\"material-identification\").project(\"garbage-classification-3\")\n",
    "dataset = project.version(2).download(\"tensorflow\")"
   ],
   "metadata": {
    "collapsed": false,
    "ExecuteTime": {
     "end_time": "2024-01-26T16:04:52.532476027Z",
     "start_time": "2024-01-26T16:04:40.300433561Z"
    }
   },
   "id": "d3b0893d6578dc04",
   "execution_count": 4
  },
  {
   "cell_type": "code",
   "outputs": [],
   "source": [
    "train = pd.read_csv('GARBAGE-CLASSIFICATION-3-2/train/_annotations.csv')\n",
    "test = pd.read_csv('GARBAGE-CLASSIFICATION-3-2/test/_annotations.csv')\n",
    "val = pd.read_csv('GARBAGE-CLASSIFICATION-3-2/valid/_annotations.csv')\n",
    "combined_data = pd.concat([train, test, val], ignore_index=True)"
   ],
   "metadata": {
    "collapsed": false,
    "ExecuteTime": {
     "end_time": "2024-01-26T16:05:01.325154485Z",
     "start_time": "2024-01-26T16:05:01.169149637Z"
    }
   },
   "id": "9b45bcc2cba547b4",
   "execution_count": 5
  },
  {
   "cell_type": "code",
   "outputs": [],
   "source": [
    "move_files_recursively('GARBAGE-CLASSIFICATION-3-2')"
   ],
   "metadata": {
    "collapsed": false,
    "ExecuteTime": {
     "end_time": "2024-01-26T16:05:03.608281725Z",
     "start_time": "2024-01-26T16:05:03.192522113Z"
    }
   },
   "id": "ee571a77fdb721a3",
   "execution_count": 6
  },
  {
   "cell_type": "code",
   "outputs": [
    {
     "data": {
      "text/plain": "class\nBIODEGRADABLE              45407\nMETAL_CARDBOARD_PLASTIC    16484\nGLASS                       7809\nPAPER                       4390\nName: count, dtype: int64"
     },
     "execution_count": 7,
     "metadata": {},
     "output_type": "execute_result"
    }
   ],
   "source": [
    "map_classes = {\n",
    "    'METAL': 'METAL_CARDBOARD_PLASTIC',\n",
    "    'CARDBOARD': 'METAL_CARDBOARD_PLASTIC',\n",
    "    'PLASTIC': 'METAL_CARDBOARD_PLASTIC',\n",
    "    'PAPER': 'PAPER',\n",
    "    'GLASS': 'GLASS',\n",
    "    'BIODEGRADABLE': 'BIODEGRADABLE'\n",
    "}\n",
    "def get_class(c):\n",
    "    for key in map_classes.keys():\n",
    "        if key==c:\n",
    "            return map_classes.get(key)\n",
    "    return c\n",
    "\n",
    "def remove_until_char(input_string,remove_char,include_char=True):\n",
    "    match = re.search(remove_char, input_string)\n",
    "    if match:\n",
    "        return input_string[match.start() + 1 if include_char else 0:]\n",
    "    return input_string\n",
    "\n",
    "def get_set_name(ratios=None):\n",
    "    if ratios is None:\n",
    "        ratios = [0.6, 0.25, 0.15]\n",
    "    rand = np.random.uniform()\n",
    "    if rand <= ratios[0]:\n",
    "        set_name = 'TRAIN'\n",
    "    elif rand <= ratios[0] + ratios[1]:\n",
    "        set_name = 'TEST'\n",
    "    else:\n",
    "        set_name = 'VAL'\n",
    "    return set_name\n",
    "\n",
    "def edit_row(row):\n",
    "    row['class'] = get_class(row['class'])\n",
    "    return row\n",
    "\n",
    "for index, row in combined_data.iterrows():\n",
    "    combined_data.loc[index] = edit_row(row)\n",
    "\n",
    "classes_occurences = combined_data['class'].value_counts()    \n",
    "classes_occurences"
   ],
   "metadata": {
    "collapsed": false,
    "ExecuteTime": {
     "end_time": "2024-01-26T16:05:59.507642803Z",
     "start_time": "2024-01-26T16:05:37.275306442Z"
    }
   },
   "id": "8638fd880f5dfd9c",
   "execution_count": 7
  },
  {
   "cell_type": "code",
   "outputs": [
    {
     "name": "stdout",
     "output_type": "stream",
     "text": [
      "Processed 1/74090\n",
      "Processed 501/74090\n",
      "Processed 1001/74090\n",
      "Processed 1501/74090\n"
     ]
    },
    {
     "ename": "KeyboardInterrupt",
     "evalue": "",
     "output_type": "error",
     "traceback": [
      "\u001B[0;31m---------------------------------------------------------------------------\u001B[0m",
      "\u001B[0;31mKeyboardInterrupt\u001B[0m                         Traceback (most recent call last)",
      "Cell \u001B[0;32mIn[15], line 16\u001B[0m\n\u001B[1;32m     14\u001B[0m row[\u001B[38;5;124m'\u001B[39m\u001B[38;5;124m3\u001B[39m\u001B[38;5;124m'\u001B[39m] \u001B[38;5;241m=\u001B[39m \u001B[38;5;28;01mNone\u001B[39;00m\n\u001B[1;32m     15\u001B[0m row[\u001B[38;5;124m'\u001B[39m\u001B[38;5;124m4\u001B[39m\u001B[38;5;124m'\u001B[39m] \u001B[38;5;241m=\u001B[39m \u001B[38;5;28;01mNone\u001B[39;00m\n\u001B[0;32m---> 16\u001B[0m \u001B[43mcleansed_data\u001B[49m\u001B[38;5;241;43m.\u001B[39;49m\u001B[43mloc\u001B[49m\u001B[43m[\u001B[49m\u001B[43mindex\u001B[49m\u001B[43m]\u001B[49m \u001B[38;5;241m=\u001B[39m row[[\u001B[38;5;124m'\u001B[39m\u001B[38;5;124mset\u001B[39m\u001B[38;5;124m'\u001B[39m,\u001B[38;5;124m'\u001B[39m\u001B[38;5;124mfilename\u001B[39m\u001B[38;5;124m'\u001B[39m,\u001B[38;5;124m'\u001B[39m\u001B[38;5;124mlabel\u001B[39m\u001B[38;5;124m'\u001B[39m,\u001B[38;5;124m'\u001B[39m\u001B[38;5;124mxmin_relative\u001B[39m\u001B[38;5;124m'\u001B[39m,\u001B[38;5;124m'\u001B[39m\u001B[38;5;124mymin_relative\u001B[39m\u001B[38;5;124m'\u001B[39m,\u001B[38;5;124m'\u001B[39m\u001B[38;5;124m1\u001B[39m\u001B[38;5;124m'\u001B[39m,\u001B[38;5;124m'\u001B[39m\u001B[38;5;124m2\u001B[39m\u001B[38;5;124m'\u001B[39m,\u001B[38;5;124m'\u001B[39m\u001B[38;5;124mxmax_relative\u001B[39m\u001B[38;5;124m'\u001B[39m,\u001B[38;5;124m'\u001B[39m\u001B[38;5;124mymax_relative\u001B[39m\u001B[38;5;124m'\u001B[39m,\u001B[38;5;124m'\u001B[39m\u001B[38;5;124m3\u001B[39m\u001B[38;5;124m'\u001B[39m,\u001B[38;5;124m'\u001B[39m\u001B[38;5;124m4\u001B[39m\u001B[38;5;124m'\u001B[39m]]\n\u001B[1;32m     17\u001B[0m \u001B[38;5;28;01mif\u001B[39;00m index \u001B[38;5;241m%\u001B[39m \u001B[38;5;241m500\u001B[39m \u001B[38;5;241m==\u001B[39m \u001B[38;5;241m0\u001B[39m:\n\u001B[1;32m     18\u001B[0m     \u001B[38;5;28mprint\u001B[39m(\u001B[38;5;124mf\u001B[39m\u001B[38;5;124m'\u001B[39m\u001B[38;5;124mProcessed \u001B[39m\u001B[38;5;132;01m{\u001B[39;00mindex\u001B[38;5;241m+\u001B[39m\u001B[38;5;241m1\u001B[39m\u001B[38;5;132;01m}\u001B[39;00m\u001B[38;5;124m/\u001B[39m\u001B[38;5;132;01m{\u001B[39;00mcombined_data\u001B[38;5;241m.\u001B[39mshape[\u001B[38;5;241m0\u001B[39m]\u001B[38;5;132;01m}\u001B[39;00m\u001B[38;5;124m'\u001B[39m)\n",
      "File \u001B[0;32m~/anaconda3/envs/tflite-model-maker/lib/python3.9/site-packages/pandas/core/indexing.py:885\u001B[0m, in \u001B[0;36m_LocationIndexer.__setitem__\u001B[0;34m(self, key, value)\u001B[0m\n\u001B[1;32m    882\u001B[0m \u001B[38;5;28mself\u001B[39m\u001B[38;5;241m.\u001B[39m_has_valid_setitem_indexer(key)\n\u001B[1;32m    884\u001B[0m iloc \u001B[38;5;241m=\u001B[39m \u001B[38;5;28mself\u001B[39m \u001B[38;5;28;01mif\u001B[39;00m \u001B[38;5;28mself\u001B[39m\u001B[38;5;241m.\u001B[39mname \u001B[38;5;241m==\u001B[39m \u001B[38;5;124m\"\u001B[39m\u001B[38;5;124miloc\u001B[39m\u001B[38;5;124m\"\u001B[39m \u001B[38;5;28;01melse\u001B[39;00m \u001B[38;5;28mself\u001B[39m\u001B[38;5;241m.\u001B[39mobj\u001B[38;5;241m.\u001B[39miloc\n\u001B[0;32m--> 885\u001B[0m \u001B[43miloc\u001B[49m\u001B[38;5;241;43m.\u001B[39;49m\u001B[43m_setitem_with_indexer\u001B[49m\u001B[43m(\u001B[49m\u001B[43mindexer\u001B[49m\u001B[43m,\u001B[49m\u001B[43m \u001B[49m\u001B[43mvalue\u001B[49m\u001B[43m,\u001B[49m\u001B[43m \u001B[49m\u001B[38;5;28;43mself\u001B[39;49m\u001B[38;5;241;43m.\u001B[39;49m\u001B[43mname\u001B[49m\u001B[43m)\u001B[49m\n",
      "File \u001B[0;32m~/anaconda3/envs/tflite-model-maker/lib/python3.9/site-packages/pandas/core/indexing.py:1883\u001B[0m, in \u001B[0;36m_iLocIndexer._setitem_with_indexer\u001B[0;34m(self, indexer, value, name)\u001B[0m\n\u001B[1;32m   1880\u001B[0m     indexer, missing \u001B[38;5;241m=\u001B[39m convert_missing_indexer(indexer)\n\u001B[1;32m   1882\u001B[0m     \u001B[38;5;28;01mif\u001B[39;00m missing:\n\u001B[0;32m-> 1883\u001B[0m         \u001B[38;5;28;43mself\u001B[39;49m\u001B[38;5;241;43m.\u001B[39;49m\u001B[43m_setitem_with_indexer_missing\u001B[49m\u001B[43m(\u001B[49m\u001B[43mindexer\u001B[49m\u001B[43m,\u001B[49m\u001B[43m \u001B[49m\u001B[43mvalue\u001B[49m\u001B[43m)\u001B[49m\n\u001B[1;32m   1884\u001B[0m         \u001B[38;5;28;01mreturn\u001B[39;00m\n\u001B[1;32m   1886\u001B[0m \u001B[38;5;28;01mif\u001B[39;00m name \u001B[38;5;241m==\u001B[39m \u001B[38;5;124m\"\u001B[39m\u001B[38;5;124mloc\u001B[39m\u001B[38;5;124m\"\u001B[39m:\n\u001B[1;32m   1887\u001B[0m     \u001B[38;5;66;03m# must come after setting of missing\u001B[39;00m\n",
      "File \u001B[0;32m~/anaconda3/envs/tflite-model-maker/lib/python3.9/site-packages/pandas/core/indexing.py:2241\u001B[0m, in \u001B[0;36m_iLocIndexer._setitem_with_indexer_missing\u001B[0;34m(self, indexer, value)\u001B[0m\n\u001B[1;32m   2239\u001B[0m     \u001B[38;5;28mself\u001B[39m\u001B[38;5;241m.\u001B[39mobj\u001B[38;5;241m.\u001B[39m_mgr \u001B[38;5;241m=\u001B[39m df\u001B[38;5;241m.\u001B[39m_mgr\n\u001B[1;32m   2240\u001B[0m \u001B[38;5;28;01melse\u001B[39;00m:\n\u001B[0;32m-> 2241\u001B[0m     \u001B[38;5;28mself\u001B[39m\u001B[38;5;241m.\u001B[39mobj\u001B[38;5;241m.\u001B[39m_mgr \u001B[38;5;241m=\u001B[39m \u001B[38;5;28;43mself\u001B[39;49m\u001B[38;5;241;43m.\u001B[39;49m\u001B[43mobj\u001B[49m\u001B[38;5;241;43m.\u001B[39;49m\u001B[43m_append\u001B[49m\u001B[43m(\u001B[49m\u001B[43mvalue\u001B[49m\u001B[43m)\u001B[49m\u001B[38;5;241m.\u001B[39m_mgr\n\u001B[1;32m   2242\u001B[0m \u001B[38;5;28mself\u001B[39m\u001B[38;5;241m.\u001B[39mobj\u001B[38;5;241m.\u001B[39m_maybe_update_cacher(clear\u001B[38;5;241m=\u001B[39m\u001B[38;5;28;01mTrue\u001B[39;00m)\n",
      "File \u001B[0;32m~/anaconda3/envs/tflite-model-maker/lib/python3.9/site-packages/pandas/core/frame.py:10224\u001B[0m, in \u001B[0;36mDataFrame._append\u001B[0;34m(self, other, ignore_index, verify_integrity, sort)\u001B[0m\n\u001B[1;32m  10221\u001B[0m \u001B[38;5;28;01melse\u001B[39;00m:\n\u001B[1;32m  10222\u001B[0m     to_concat \u001B[38;5;241m=\u001B[39m [\u001B[38;5;28mself\u001B[39m, other]\n\u001B[0;32m> 10224\u001B[0m result \u001B[38;5;241m=\u001B[39m \u001B[43mconcat\u001B[49m\u001B[43m(\u001B[49m\n\u001B[1;32m  10225\u001B[0m \u001B[43m    \u001B[49m\u001B[43mto_concat\u001B[49m\u001B[43m,\u001B[49m\n\u001B[1;32m  10226\u001B[0m \u001B[43m    \u001B[49m\u001B[43mignore_index\u001B[49m\u001B[38;5;241;43m=\u001B[39;49m\u001B[43mignore_index\u001B[49m\u001B[43m,\u001B[49m\n\u001B[1;32m  10227\u001B[0m \u001B[43m    \u001B[49m\u001B[43mverify_integrity\u001B[49m\u001B[38;5;241;43m=\u001B[39;49m\u001B[43mverify_integrity\u001B[49m\u001B[43m,\u001B[49m\n\u001B[1;32m  10228\u001B[0m \u001B[43m    \u001B[49m\u001B[43msort\u001B[49m\u001B[38;5;241;43m=\u001B[39;49m\u001B[43msort\u001B[49m\u001B[43m,\u001B[49m\n\u001B[1;32m  10229\u001B[0m \u001B[43m\u001B[49m\u001B[43m)\u001B[49m\n\u001B[1;32m  10230\u001B[0m \u001B[38;5;28;01mreturn\u001B[39;00m result\u001B[38;5;241m.\u001B[39m__finalize__(\u001B[38;5;28mself\u001B[39m, method\u001B[38;5;241m=\u001B[39m\u001B[38;5;124m\"\u001B[39m\u001B[38;5;124mappend\u001B[39m\u001B[38;5;124m\"\u001B[39m)\n",
      "File \u001B[0;32m~/anaconda3/envs/tflite-model-maker/lib/python3.9/site-packages/pandas/core/reshape/concat.py:393\u001B[0m, in \u001B[0;36mconcat\u001B[0;34m(objs, axis, join, ignore_index, keys, levels, names, verify_integrity, sort, copy)\u001B[0m\n\u001B[1;32m    378\u001B[0m     copy \u001B[38;5;241m=\u001B[39m \u001B[38;5;28;01mFalse\u001B[39;00m\n\u001B[1;32m    380\u001B[0m op \u001B[38;5;241m=\u001B[39m _Concatenator(\n\u001B[1;32m    381\u001B[0m     objs,\n\u001B[1;32m    382\u001B[0m     axis\u001B[38;5;241m=\u001B[39maxis,\n\u001B[0;32m   (...)\u001B[0m\n\u001B[1;32m    390\u001B[0m     sort\u001B[38;5;241m=\u001B[39msort,\n\u001B[1;32m    391\u001B[0m )\n\u001B[0;32m--> 393\u001B[0m \u001B[38;5;28;01mreturn\u001B[39;00m \u001B[43mop\u001B[49m\u001B[38;5;241;43m.\u001B[39;49m\u001B[43mget_result\u001B[49m\u001B[43m(\u001B[49m\u001B[43m)\u001B[49m\n",
      "File \u001B[0;32m~/anaconda3/envs/tflite-model-maker/lib/python3.9/site-packages/pandas/core/reshape/concat.py:680\u001B[0m, in \u001B[0;36m_Concatenator.get_result\u001B[0;34m(self)\u001B[0m\n\u001B[1;32m    676\u001B[0m             indexers[ax] \u001B[38;5;241m=\u001B[39m obj_labels\u001B[38;5;241m.\u001B[39mget_indexer(new_labels)\n\u001B[1;32m    678\u001B[0m     mgrs_indexers\u001B[38;5;241m.\u001B[39mappend((obj\u001B[38;5;241m.\u001B[39m_mgr, indexers))\n\u001B[0;32m--> 680\u001B[0m new_data \u001B[38;5;241m=\u001B[39m \u001B[43mconcatenate_managers\u001B[49m\u001B[43m(\u001B[49m\n\u001B[1;32m    681\u001B[0m \u001B[43m    \u001B[49m\u001B[43mmgrs_indexers\u001B[49m\u001B[43m,\u001B[49m\u001B[43m \u001B[49m\u001B[38;5;28;43mself\u001B[39;49m\u001B[38;5;241;43m.\u001B[39;49m\u001B[43mnew_axes\u001B[49m\u001B[43m,\u001B[49m\u001B[43m \u001B[49m\u001B[43mconcat_axis\u001B[49m\u001B[38;5;241;43m=\u001B[39;49m\u001B[38;5;28;43mself\u001B[39;49m\u001B[38;5;241;43m.\u001B[39;49m\u001B[43mbm_axis\u001B[49m\u001B[43m,\u001B[49m\u001B[43m \u001B[49m\u001B[43mcopy\u001B[49m\u001B[38;5;241;43m=\u001B[39;49m\u001B[38;5;28;43mself\u001B[39;49m\u001B[38;5;241;43m.\u001B[39;49m\u001B[43mcopy\u001B[49m\n\u001B[1;32m    682\u001B[0m \u001B[43m\u001B[49m\u001B[43m)\u001B[49m\n\u001B[1;32m    683\u001B[0m \u001B[38;5;28;01mif\u001B[39;00m \u001B[38;5;129;01mnot\u001B[39;00m \u001B[38;5;28mself\u001B[39m\u001B[38;5;241m.\u001B[39mcopy \u001B[38;5;129;01mand\u001B[39;00m \u001B[38;5;129;01mnot\u001B[39;00m using_copy_on_write():\n\u001B[1;32m    684\u001B[0m     new_data\u001B[38;5;241m.\u001B[39m_consolidate_inplace()\n",
      "File \u001B[0;32m~/anaconda3/envs/tflite-model-maker/lib/python3.9/site-packages/pandas/core/internals/concat.py:189\u001B[0m, in \u001B[0;36mconcatenate_managers\u001B[0;34m(mgrs_indexers, axes, concat_axis, copy)\u001B[0m\n\u001B[1;32m    187\u001B[0m     fastpath \u001B[38;5;241m=\u001B[39m blk\u001B[38;5;241m.\u001B[39mvalues\u001B[38;5;241m.\u001B[39mdtype \u001B[38;5;241m==\u001B[39m values\u001B[38;5;241m.\u001B[39mdtype\n\u001B[1;32m    188\u001B[0m \u001B[38;5;28;01melse\u001B[39;00m:\n\u001B[0;32m--> 189\u001B[0m     values \u001B[38;5;241m=\u001B[39m \u001B[43m_concatenate_join_units\u001B[49m\u001B[43m(\u001B[49m\u001B[43mjoin_units\u001B[49m\u001B[43m,\u001B[49m\u001B[43m \u001B[49m\u001B[43mcopy\u001B[49m\u001B[38;5;241;43m=\u001B[39;49m\u001B[43mcopy\u001B[49m\u001B[43m)\u001B[49m\n\u001B[1;32m    190\u001B[0m     fastpath \u001B[38;5;241m=\u001B[39m \u001B[38;5;28;01mFalse\u001B[39;00m\n\u001B[1;32m    192\u001B[0m \u001B[38;5;28;01mif\u001B[39;00m fastpath:\n",
      "File \u001B[0;32m~/anaconda3/envs/tflite-model-maker/lib/python3.9/site-packages/pandas/core/internals/concat.py:466\u001B[0m, in \u001B[0;36m_concatenate_join_units\u001B[0;34m(join_units, copy)\u001B[0m\n\u001B[1;32m    463\u001B[0m has_none_blocks \u001B[38;5;241m=\u001B[39m \u001B[38;5;28many\u001B[39m(unit\u001B[38;5;241m.\u001B[39mblock\u001B[38;5;241m.\u001B[39mdtype\u001B[38;5;241m.\u001B[39mkind \u001B[38;5;241m==\u001B[39m \u001B[38;5;124m\"\u001B[39m\u001B[38;5;124mV\u001B[39m\u001B[38;5;124m\"\u001B[39m \u001B[38;5;28;01mfor\u001B[39;00m unit \u001B[38;5;129;01min\u001B[39;00m join_units)\n\u001B[1;32m    464\u001B[0m upcasted_na \u001B[38;5;241m=\u001B[39m _dtype_to_na_value(empty_dtype, has_none_blocks)\n\u001B[0;32m--> 466\u001B[0m to_concat \u001B[38;5;241m=\u001B[39m [\n\u001B[1;32m    467\u001B[0m     ju\u001B[38;5;241m.\u001B[39mget_reindexed_values(empty_dtype\u001B[38;5;241m=\u001B[39mempty_dtype, upcasted_na\u001B[38;5;241m=\u001B[39mupcasted_na)\n\u001B[1;32m    468\u001B[0m     \u001B[38;5;28;01mfor\u001B[39;00m ju \u001B[38;5;129;01min\u001B[39;00m join_units\n\u001B[1;32m    469\u001B[0m ]\n\u001B[1;32m    471\u001B[0m \u001B[38;5;28;01mif\u001B[39;00m \u001B[38;5;28many\u001B[39m(is_1d_only_ea_dtype(t\u001B[38;5;241m.\u001B[39mdtype) \u001B[38;5;28;01mfor\u001B[39;00m t \u001B[38;5;129;01min\u001B[39;00m to_concat):\n\u001B[1;32m    472\u001B[0m     \u001B[38;5;66;03m# TODO(EA2D): special case not needed if all EAs used HybridBlocks\u001B[39;00m\n\u001B[1;32m    473\u001B[0m \n\u001B[1;32m    474\u001B[0m     \u001B[38;5;66;03m# error: No overload variant of \"__getitem__\" of \"ExtensionArray\" matches\u001B[39;00m\n\u001B[1;32m    475\u001B[0m     \u001B[38;5;66;03m# argument type \"Tuple[int, slice]\"\u001B[39;00m\n\u001B[1;32m    476\u001B[0m     to_concat \u001B[38;5;241m=\u001B[39m [\n\u001B[1;32m    477\u001B[0m         t\n\u001B[1;32m    478\u001B[0m         \u001B[38;5;28;01mif\u001B[39;00m is_1d_only_ea_dtype(t\u001B[38;5;241m.\u001B[39mdtype)\n\u001B[1;32m    479\u001B[0m         \u001B[38;5;28;01melse\u001B[39;00m t[\u001B[38;5;241m0\u001B[39m, :]  \u001B[38;5;66;03m# type: ignore[call-overload]\u001B[39;00m\n\u001B[1;32m    480\u001B[0m         \u001B[38;5;28;01mfor\u001B[39;00m t \u001B[38;5;129;01min\u001B[39;00m to_concat\n\u001B[1;32m    481\u001B[0m     ]\n",
      "File \u001B[0;32m~/anaconda3/envs/tflite-model-maker/lib/python3.9/site-packages/pandas/core/internals/concat.py:467\u001B[0m, in \u001B[0;36m<listcomp>\u001B[0;34m(.0)\u001B[0m\n\u001B[1;32m    463\u001B[0m has_none_blocks \u001B[38;5;241m=\u001B[39m \u001B[38;5;28many\u001B[39m(unit\u001B[38;5;241m.\u001B[39mblock\u001B[38;5;241m.\u001B[39mdtype\u001B[38;5;241m.\u001B[39mkind \u001B[38;5;241m==\u001B[39m \u001B[38;5;124m\"\u001B[39m\u001B[38;5;124mV\u001B[39m\u001B[38;5;124m\"\u001B[39m \u001B[38;5;28;01mfor\u001B[39;00m unit \u001B[38;5;129;01min\u001B[39;00m join_units)\n\u001B[1;32m    464\u001B[0m upcasted_na \u001B[38;5;241m=\u001B[39m _dtype_to_na_value(empty_dtype, has_none_blocks)\n\u001B[1;32m    466\u001B[0m to_concat \u001B[38;5;241m=\u001B[39m [\n\u001B[0;32m--> 467\u001B[0m     \u001B[43mju\u001B[49m\u001B[38;5;241;43m.\u001B[39;49m\u001B[43mget_reindexed_values\u001B[49m\u001B[43m(\u001B[49m\u001B[43mempty_dtype\u001B[49m\u001B[38;5;241;43m=\u001B[39;49m\u001B[43mempty_dtype\u001B[49m\u001B[43m,\u001B[49m\u001B[43m \u001B[49m\u001B[43mupcasted_na\u001B[49m\u001B[38;5;241;43m=\u001B[39;49m\u001B[43mupcasted_na\u001B[49m\u001B[43m)\u001B[49m\n\u001B[1;32m    468\u001B[0m     \u001B[38;5;28;01mfor\u001B[39;00m ju \u001B[38;5;129;01min\u001B[39;00m join_units\n\u001B[1;32m    469\u001B[0m ]\n\u001B[1;32m    471\u001B[0m \u001B[38;5;28;01mif\u001B[39;00m \u001B[38;5;28many\u001B[39m(is_1d_only_ea_dtype(t\u001B[38;5;241m.\u001B[39mdtype) \u001B[38;5;28;01mfor\u001B[39;00m t \u001B[38;5;129;01min\u001B[39;00m to_concat):\n\u001B[1;32m    472\u001B[0m     \u001B[38;5;66;03m# TODO(EA2D): special case not needed if all EAs used HybridBlocks\u001B[39;00m\n\u001B[1;32m    473\u001B[0m \n\u001B[1;32m    474\u001B[0m     \u001B[38;5;66;03m# error: No overload variant of \"__getitem__\" of \"ExtensionArray\" matches\u001B[39;00m\n\u001B[1;32m    475\u001B[0m     \u001B[38;5;66;03m# argument type \"Tuple[int, slice]\"\u001B[39;00m\n\u001B[1;32m    476\u001B[0m     to_concat \u001B[38;5;241m=\u001B[39m [\n\u001B[1;32m    477\u001B[0m         t\n\u001B[1;32m    478\u001B[0m         \u001B[38;5;28;01mif\u001B[39;00m is_1d_only_ea_dtype(t\u001B[38;5;241m.\u001B[39mdtype)\n\u001B[1;32m    479\u001B[0m         \u001B[38;5;28;01melse\u001B[39;00m t[\u001B[38;5;241m0\u001B[39m, :]  \u001B[38;5;66;03m# type: ignore[call-overload]\u001B[39;00m\n\u001B[1;32m    480\u001B[0m         \u001B[38;5;28;01mfor\u001B[39;00m t \u001B[38;5;129;01min\u001B[39;00m to_concat\n\u001B[1;32m    481\u001B[0m     ]\n",
      "File \u001B[0;32m~/anaconda3/envs/tflite-model-maker/lib/python3.9/site-packages/pandas/core/internals/concat.py:440\u001B[0m, in \u001B[0;36mJoinUnit.get_reindexed_values\u001B[0;34m(self, empty_dtype, upcasted_na)\u001B[0m\n\u001B[1;32m    437\u001B[0m \u001B[38;5;28;01melse\u001B[39;00m:\n\u001B[1;32m    438\u001B[0m     fill_value \u001B[38;5;241m=\u001B[39m upcasted_na\n\u001B[0;32m--> 440\u001B[0m     \u001B[38;5;28;01mif\u001B[39;00m \u001B[38;5;28;43mself\u001B[39;49m\u001B[38;5;241;43m.\u001B[39;49m\u001B[43m_is_valid_na_for\u001B[49m\u001B[43m(\u001B[49m\u001B[43mempty_dtype\u001B[49m\u001B[43m)\u001B[49m:\n\u001B[1;32m    441\u001B[0m         \u001B[38;5;66;03m# note: always holds when self.block.dtype.kind == \"V\"\u001B[39;00m\n\u001B[1;32m    442\u001B[0m         blk_dtype \u001B[38;5;241m=\u001B[39m \u001B[38;5;28mself\u001B[39m\u001B[38;5;241m.\u001B[39mblock\u001B[38;5;241m.\u001B[39mdtype\n\u001B[1;32m    444\u001B[0m         \u001B[38;5;28;01mif\u001B[39;00m blk_dtype \u001B[38;5;241m==\u001B[39m np\u001B[38;5;241m.\u001B[39mdtype(\u001B[38;5;124m\"\u001B[39m\u001B[38;5;124mobject\u001B[39m\u001B[38;5;124m\"\u001B[39m):\n\u001B[1;32m    445\u001B[0m             \u001B[38;5;66;03m# we want to avoid filling with np.nan if we are\u001B[39;00m\n\u001B[1;32m    446\u001B[0m             \u001B[38;5;66;03m# using None; we already know that we are all\u001B[39;00m\n\u001B[1;32m    447\u001B[0m             \u001B[38;5;66;03m# nulls\u001B[39;00m\n",
      "File \u001B[0;32m~/anaconda3/envs/tflite-model-maker/lib/python3.9/site-packages/pandas/core/internals/concat.py:371\u001B[0m, in \u001B[0;36mJoinUnit._is_valid_na_for\u001B[0;34m(self, dtype)\u001B[0m\n\u001B[1;32m    369\u001B[0m \u001B[38;5;28;01mif\u001B[39;00m blk\u001B[38;5;241m.\u001B[39mdtype \u001B[38;5;241m==\u001B[39m \u001B[38;5;28mobject\u001B[39m:\n\u001B[1;32m    370\u001B[0m     values \u001B[38;5;241m=\u001B[39m blk\u001B[38;5;241m.\u001B[39mvalues\n\u001B[0;32m--> 371\u001B[0m     \u001B[38;5;28;01mreturn\u001B[39;00m \u001B[38;5;28;43mall\u001B[39;49m\u001B[43m(\u001B[49m\u001B[43mis_valid_na_for_dtype\u001B[49m\u001B[43m(\u001B[49m\u001B[43mx\u001B[49m\u001B[43m,\u001B[49m\u001B[43m \u001B[49m\u001B[43mdtype\u001B[49m\u001B[43m)\u001B[49m\u001B[43m \u001B[49m\u001B[38;5;28;43;01mfor\u001B[39;49;00m\u001B[43m \u001B[49m\u001B[43mx\u001B[49m\u001B[43m \u001B[49m\u001B[38;5;129;43;01min\u001B[39;49;00m\u001B[43m \u001B[49m\u001B[43mvalues\u001B[49m\u001B[38;5;241;43m.\u001B[39;49m\u001B[43mravel\u001B[49m\u001B[43m(\u001B[49m\u001B[43morder\u001B[49m\u001B[38;5;241;43m=\u001B[39;49m\u001B[38;5;124;43m\"\u001B[39;49m\u001B[38;5;124;43mK\u001B[39;49m\u001B[38;5;124;43m\"\u001B[39;49m\u001B[43m)\u001B[49m\u001B[43m)\u001B[49m\n\u001B[1;32m    373\u001B[0m na_value \u001B[38;5;241m=\u001B[39m blk\u001B[38;5;241m.\u001B[39mfill_value\n\u001B[1;32m    374\u001B[0m \u001B[38;5;28;01mif\u001B[39;00m na_value \u001B[38;5;129;01mis\u001B[39;00m NaT \u001B[38;5;129;01mand\u001B[39;00m blk\u001B[38;5;241m.\u001B[39mdtype \u001B[38;5;241m!=\u001B[39m dtype:\n\u001B[1;32m    375\u001B[0m     \u001B[38;5;66;03m# e.g. we are dt64 and other is td64\u001B[39;00m\n\u001B[1;32m    376\u001B[0m     \u001B[38;5;66;03m# fill_values match but we should not cast blk.values to dtype\u001B[39;00m\n\u001B[1;32m    377\u001B[0m     \u001B[38;5;66;03m# TODO: this will need updating if we ever have non-nano dt64/td64\u001B[39;00m\n",
      "File \u001B[0;32m~/anaconda3/envs/tflite-model-maker/lib/python3.9/site-packages/pandas/core/internals/concat.py:371\u001B[0m, in \u001B[0;36m<genexpr>\u001B[0;34m(.0)\u001B[0m\n\u001B[1;32m    369\u001B[0m \u001B[38;5;28;01mif\u001B[39;00m blk\u001B[38;5;241m.\u001B[39mdtype \u001B[38;5;241m==\u001B[39m \u001B[38;5;28mobject\u001B[39m:\n\u001B[1;32m    370\u001B[0m     values \u001B[38;5;241m=\u001B[39m blk\u001B[38;5;241m.\u001B[39mvalues\n\u001B[0;32m--> 371\u001B[0m     \u001B[38;5;28;01mreturn\u001B[39;00m \u001B[38;5;28mall\u001B[39m(\u001B[43mis_valid_na_for_dtype\u001B[49m\u001B[43m(\u001B[49m\u001B[43mx\u001B[49m\u001B[43m,\u001B[49m\u001B[43m \u001B[49m\u001B[43mdtype\u001B[49m\u001B[43m)\u001B[49m \u001B[38;5;28;01mfor\u001B[39;00m x \u001B[38;5;129;01min\u001B[39;00m values\u001B[38;5;241m.\u001B[39mravel(order\u001B[38;5;241m=\u001B[39m\u001B[38;5;124m\"\u001B[39m\u001B[38;5;124mK\u001B[39m\u001B[38;5;124m\"\u001B[39m))\n\u001B[1;32m    373\u001B[0m na_value \u001B[38;5;241m=\u001B[39m blk\u001B[38;5;241m.\u001B[39mfill_value\n\u001B[1;32m    374\u001B[0m \u001B[38;5;28;01mif\u001B[39;00m na_value \u001B[38;5;129;01mis\u001B[39;00m NaT \u001B[38;5;129;01mand\u001B[39;00m blk\u001B[38;5;241m.\u001B[39mdtype \u001B[38;5;241m!=\u001B[39m dtype:\n\u001B[1;32m    375\u001B[0m     \u001B[38;5;66;03m# e.g. we are dt64 and other is td64\u001B[39;00m\n\u001B[1;32m    376\u001B[0m     \u001B[38;5;66;03m# fill_values match but we should not cast blk.values to dtype\u001B[39;00m\n\u001B[1;32m    377\u001B[0m     \u001B[38;5;66;03m# TODO: this will need updating if we ever have non-nano dt64/td64\u001B[39;00m\n",
      "File \u001B[0;32m~/anaconda3/envs/tflite-model-maker/lib/python3.9/site-packages/pandas/core/dtypes/missing.py:711\u001B[0m, in \u001B[0;36mis_valid_na_for_dtype\u001B[0;34m(obj, dtype)\u001B[0m\n\u001B[1;32m    709\u001B[0m \u001B[38;5;28;01mif\u001B[39;00m \u001B[38;5;129;01mnot\u001B[39;00m lib\u001B[38;5;241m.\u001B[39mis_scalar(obj) \u001B[38;5;129;01mor\u001B[39;00m \u001B[38;5;129;01mnot\u001B[39;00m isna(obj):\n\u001B[1;32m    710\u001B[0m     \u001B[38;5;28;01mreturn\u001B[39;00m \u001B[38;5;28;01mFalse\u001B[39;00m\n\u001B[0;32m--> 711\u001B[0m \u001B[38;5;28;01melif\u001B[39;00m \u001B[43mdtype\u001B[49m\u001B[38;5;241;43m.\u001B[39;49m\u001B[43mkind\u001B[49m \u001B[38;5;241m==\u001B[39m \u001B[38;5;124m\"\u001B[39m\u001B[38;5;124mM\u001B[39m\u001B[38;5;124m\"\u001B[39m:\n\u001B[1;32m    712\u001B[0m     \u001B[38;5;28;01mif\u001B[39;00m \u001B[38;5;28misinstance\u001B[39m(dtype, np\u001B[38;5;241m.\u001B[39mdtype):\n\u001B[1;32m    713\u001B[0m         \u001B[38;5;66;03m# i.e. not tzaware\u001B[39;00m\n\u001B[1;32m    714\u001B[0m         \u001B[38;5;28;01mreturn\u001B[39;00m \u001B[38;5;129;01mnot\u001B[39;00m \u001B[38;5;28misinstance\u001B[39m(obj, (np\u001B[38;5;241m.\u001B[39mtimedelta64, Decimal))\n",
      "\u001B[0;31mKeyboardInterrupt\u001B[0m: "
     ]
    }
   ],
   "source": [
    "ratios = [0.6, 0.25, 0.15]\n",
    "cleansed_data = pd.DataFrame(columns=['set','filename','label','xmin_relative','ymin_relative','1','2','xmax_relative','ymax_relative','3','4'])\n",
    "for index, row in combined_data.iterrows():\n",
    "    width = row['width']\n",
    "    height = row['height']\n",
    "    row['label']=row['class']\n",
    "    row['xmin_relative'] = row['xmin'] / width\n",
    "    row['ymin_relative'] = row['ymin'] / height\n",
    "    row['xmax_relative'] = row['xmax'] / width\n",
    "    row['ymax_relative'] = row['ymax'] / height\n",
    "    row['set'] = get_set_name(ratios)\n",
    "    row['1'] = None\n",
    "    row['2'] = None\n",
    "    row['3'] = None\n",
    "    row['4'] = None\n",
    "    cleansed_data.loc[index] = row[['set','filename','label','xmin_relative','ymin_relative','1','2','xmax_relative','ymax_relative','3','4']]\n",
    "    if index % 500 == 0:\n",
    "        print(f'Processed {index+1}/{combined_data.shape[0]}')\n",
    "cleansed_data.to_csv('annotations_full.csv', index=False)"
   ],
   "metadata": {
    "collapsed": false,
    "ExecuteTime": {
     "end_time": "2024-01-08T15:14:43.888338975Z",
     "start_time": "2024-01-08T15:14:34.076740610Z"
    }
   },
   "id": "129d634a9981d216",
   "execution_count": 15
  },
  {
   "cell_type": "markdown",
   "source": [
    "## Balancing data "
   ],
   "metadata": {
    "collapsed": false
   },
   "id": "13a1707e9cb986cf"
  },
  {
   "cell_type": "code",
   "outputs": [
    {
     "data": {
      "text/plain": "label\nBIODEGRADABLE              45407\nMETAL_CARDBOARD_PLASTIC    16484\nGLASS                       7809\nPAPER                       4390\nName: count, dtype: int64"
     },
     "execution_count": 9,
     "metadata": {},
     "output_type": "execute_result"
    }
   ],
   "source": [
    "cleansed_data = pd.read_csv('annotations_full.csv')\n",
    "classes_occurences = cleansed_data['label'].value_counts()\n",
    "classes_occurences"
   ],
   "metadata": {
    "collapsed": false,
    "ExecuteTime": {
     "end_time": "2024-01-26T16:07:21.858196620Z",
     "start_time": "2024-01-26T16:07:21.702940113Z"
    }
   },
   "id": "a6174e8c730b0d76",
   "execution_count": 9
  },
  {
   "cell_type": "code",
   "outputs": [
    {
     "name": "stdout",
     "output_type": "stream",
     "text": [
      "Balanced dataframe shape: (17560, 11)\n",
      "Balanced dataframe shape shuffled: (17560, 11)\n"
     ]
    },
    {
     "name": "stderr",
     "output_type": "stream",
     "text": [
      "The behavior of DataFrame concatenation with empty or all-NA entries is deprecated. In a future version, this will no longer exclude empty or all-NA columns when determining the result dtypes. To retain the old behavior, exclude the relevant entries before the concat operation.\n"
     ]
    }
   ],
   "source": [
    "balanced_data = pd.DataFrame(columns=cleansed_data.columns)\n",
    "for class_label in cleansed_data['label'].unique():\n",
    "    class_samples = cleansed_data[cleansed_data['label'] == class_label].head(np.min(classes_occurences))\n",
    "    balanced_data = pd.concat([balanced_data, class_samples], ignore_index=True)\n",
    "print(f'Balanced dataframe shape: {balanced_data.shape}')\n",
    "balanced_data = balanced_data.sample(frac=1).reset_index(drop=True)\n",
    "print(f'Balanced dataframe shape shuffled: {balanced_data.shape}')"
   ],
   "metadata": {
    "collapsed": false,
    "ExecuteTime": {
     "end_time": "2024-01-26T16:07:23.271389668Z",
     "start_time": "2024-01-26T16:07:23.184323726Z"
    }
   },
   "id": "702c46c78776b4dd",
   "execution_count": 10
  },
  {
   "cell_type": "code",
   "outputs": [
    {
     "data": {
      "text/plain": "         set                                           filename  \\\n0      TRAIN  glass2069_jpg.rf.5057efdda19b00a75c86299d20900...   \n1      TRAIN  paper2072_jpg.rf.26ede102575f09e0f66626711324e...   \n2      TRAIN  biodegradable1233_jpg.rf.16020684434938484f31b...   \n3      TRAIN  biodegradable33_jpg.rf.1872049d97fa8dd9228b0fa...   \n4      TRAIN  glass2396_jpg.rf.3511c6cfd67e9ecdb63bd08d5bb88...   \n...      ...                                                ...   \n17555  TRAIN  glass2477_jpg.rf.262d68a59da2cd7a6f860b929c479...   \n17556   TEST  glass3026_jpg.rf.09a244327bd7d9ae333b40023787a...   \n17557  TRAIN  metal627_jpg.rf.22754fe89644bf92291f290b81d09d...   \n17558   TEST  paper1408_jpg.rf.9b0a2287af91fba29b8631bc5b303...   \n17559  TRAIN  glass1475_jpg.rf.834ef9f3b65bfee80e22ee5648499...   \n\n                         label  xmin_relative  ymin_relative   1   2  \\\n0                        GLASS       0.100962       0.348558 NaN NaN   \n1                        PAPER       0.000000       0.019231 NaN NaN   \n2                BIODEGRADABLE       0.067308       0.771635 NaN NaN   \n3                BIODEGRADABLE       0.141827       0.524038 NaN NaN   \n4      METAL_CARDBOARD_PLASTIC       0.384615       0.016827 NaN NaN   \n...                        ...            ...            ...  ..  ..   \n17555                    GLASS       0.646635       0.656250 NaN NaN   \n17556                    GLASS       0.608173       0.432692 NaN NaN   \n17557  METAL_CARDBOARD_PLASTIC       0.139423       0.002404 NaN NaN   \n17558                    PAPER       0.000000       0.117788 NaN NaN   \n17559                    GLASS       0.250000       0.254808 NaN NaN   \n\n       xmax_relative  ymax_relative   3   4  \n0           0.846154       0.997596 NaN NaN  \n1           1.000000       0.997596 NaN NaN  \n2           0.129808       0.872596 NaN NaN  \n3           0.992788       0.923077 NaN NaN  \n4           0.598558       0.079327 NaN NaN  \n...              ...            ...  ..  ..  \n17555       0.670673       0.675481 NaN NaN  \n17556       0.680288       0.574519 NaN NaN  \n17557       0.795673       0.574519 NaN NaN  \n17558       0.855769       0.713942 NaN NaN  \n17559       0.778846       0.725962 NaN NaN  \n\n[17560 rows x 11 columns]",
      "text/html": "<div>\n<style scoped>\n    .dataframe tbody tr th:only-of-type {\n        vertical-align: middle;\n    }\n\n    .dataframe tbody tr th {\n        vertical-align: top;\n    }\n\n    .dataframe thead th {\n        text-align: right;\n    }\n</style>\n<table border=\"1\" class=\"dataframe\">\n  <thead>\n    <tr style=\"text-align: right;\">\n      <th></th>\n      <th>set</th>\n      <th>filename</th>\n      <th>label</th>\n      <th>xmin_relative</th>\n      <th>ymin_relative</th>\n      <th>1</th>\n      <th>2</th>\n      <th>xmax_relative</th>\n      <th>ymax_relative</th>\n      <th>3</th>\n      <th>4</th>\n    </tr>\n  </thead>\n  <tbody>\n    <tr>\n      <th>0</th>\n      <td>TRAIN</td>\n      <td>glass2069_jpg.rf.5057efdda19b00a75c86299d20900...</td>\n      <td>GLASS</td>\n      <td>0.100962</td>\n      <td>0.348558</td>\n      <td>NaN</td>\n      <td>NaN</td>\n      <td>0.846154</td>\n      <td>0.997596</td>\n      <td>NaN</td>\n      <td>NaN</td>\n    </tr>\n    <tr>\n      <th>1</th>\n      <td>TRAIN</td>\n      <td>paper2072_jpg.rf.26ede102575f09e0f66626711324e...</td>\n      <td>PAPER</td>\n      <td>0.000000</td>\n      <td>0.019231</td>\n      <td>NaN</td>\n      <td>NaN</td>\n      <td>1.000000</td>\n      <td>0.997596</td>\n      <td>NaN</td>\n      <td>NaN</td>\n    </tr>\n    <tr>\n      <th>2</th>\n      <td>TRAIN</td>\n      <td>biodegradable1233_jpg.rf.16020684434938484f31b...</td>\n      <td>BIODEGRADABLE</td>\n      <td>0.067308</td>\n      <td>0.771635</td>\n      <td>NaN</td>\n      <td>NaN</td>\n      <td>0.129808</td>\n      <td>0.872596</td>\n      <td>NaN</td>\n      <td>NaN</td>\n    </tr>\n    <tr>\n      <th>3</th>\n      <td>TRAIN</td>\n      <td>biodegradable33_jpg.rf.1872049d97fa8dd9228b0fa...</td>\n      <td>BIODEGRADABLE</td>\n      <td>0.141827</td>\n      <td>0.524038</td>\n      <td>NaN</td>\n      <td>NaN</td>\n      <td>0.992788</td>\n      <td>0.923077</td>\n      <td>NaN</td>\n      <td>NaN</td>\n    </tr>\n    <tr>\n      <th>4</th>\n      <td>TRAIN</td>\n      <td>glass2396_jpg.rf.3511c6cfd67e9ecdb63bd08d5bb88...</td>\n      <td>METAL_CARDBOARD_PLASTIC</td>\n      <td>0.384615</td>\n      <td>0.016827</td>\n      <td>NaN</td>\n      <td>NaN</td>\n      <td>0.598558</td>\n      <td>0.079327</td>\n      <td>NaN</td>\n      <td>NaN</td>\n    </tr>\n    <tr>\n      <th>...</th>\n      <td>...</td>\n      <td>...</td>\n      <td>...</td>\n      <td>...</td>\n      <td>...</td>\n      <td>...</td>\n      <td>...</td>\n      <td>...</td>\n      <td>...</td>\n      <td>...</td>\n      <td>...</td>\n    </tr>\n    <tr>\n      <th>17555</th>\n      <td>TRAIN</td>\n      <td>glass2477_jpg.rf.262d68a59da2cd7a6f860b929c479...</td>\n      <td>GLASS</td>\n      <td>0.646635</td>\n      <td>0.656250</td>\n      <td>NaN</td>\n      <td>NaN</td>\n      <td>0.670673</td>\n      <td>0.675481</td>\n      <td>NaN</td>\n      <td>NaN</td>\n    </tr>\n    <tr>\n      <th>17556</th>\n      <td>TEST</td>\n      <td>glass3026_jpg.rf.09a244327bd7d9ae333b40023787a...</td>\n      <td>GLASS</td>\n      <td>0.608173</td>\n      <td>0.432692</td>\n      <td>NaN</td>\n      <td>NaN</td>\n      <td>0.680288</td>\n      <td>0.574519</td>\n      <td>NaN</td>\n      <td>NaN</td>\n    </tr>\n    <tr>\n      <th>17557</th>\n      <td>TRAIN</td>\n      <td>metal627_jpg.rf.22754fe89644bf92291f290b81d09d...</td>\n      <td>METAL_CARDBOARD_PLASTIC</td>\n      <td>0.139423</td>\n      <td>0.002404</td>\n      <td>NaN</td>\n      <td>NaN</td>\n      <td>0.795673</td>\n      <td>0.574519</td>\n      <td>NaN</td>\n      <td>NaN</td>\n    </tr>\n    <tr>\n      <th>17558</th>\n      <td>TEST</td>\n      <td>paper1408_jpg.rf.9b0a2287af91fba29b8631bc5b303...</td>\n      <td>PAPER</td>\n      <td>0.000000</td>\n      <td>0.117788</td>\n      <td>NaN</td>\n      <td>NaN</td>\n      <td>0.855769</td>\n      <td>0.713942</td>\n      <td>NaN</td>\n      <td>NaN</td>\n    </tr>\n    <tr>\n      <th>17559</th>\n      <td>TRAIN</td>\n      <td>glass1475_jpg.rf.834ef9f3b65bfee80e22ee5648499...</td>\n      <td>GLASS</td>\n      <td>0.250000</td>\n      <td>0.254808</td>\n      <td>NaN</td>\n      <td>NaN</td>\n      <td>0.778846</td>\n      <td>0.725962</td>\n      <td>NaN</td>\n      <td>NaN</td>\n    </tr>\n  </tbody>\n</table>\n<p>17560 rows × 11 columns</p>\n</div>"
     },
     "execution_count": 11,
     "metadata": {},
     "output_type": "execute_result"
    }
   ],
   "source": [
    "balanced_data.to_csv('data/annotations.csv', index=False)\n",
    "balanced_data"
   ],
   "metadata": {
    "collapsed": false,
    "ExecuteTime": {
     "end_time": "2024-01-26T16:07:25.253659348Z",
     "start_time": "2024-01-26T16:07:25.123023251Z"
    }
   },
   "id": "d461d33dc60b2d6a",
   "execution_count": 11
  },
  {
   "cell_type": "code",
   "outputs": [],
   "source": [],
   "metadata": {
    "collapsed": false
   },
   "id": "fdfa35a947444e00"
  }
 ],
 "metadata": {
  "kernelspec": {
   "display_name": "Python 3",
   "language": "python",
   "name": "python3"
  },
  "language_info": {
   "codemirror_mode": {
    "name": "ipython",
    "version": 2
   },
   "file_extension": ".py",
   "mimetype": "text/x-python",
   "name": "python",
   "nbconvert_exporter": "python",
   "pygments_lexer": "ipython2",
   "version": "2.7.6"
  }
 },
 "nbformat": 4,
 "nbformat_minor": 5
}
