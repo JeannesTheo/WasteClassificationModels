{
 "cells": [
  {
   "cell_type": "code",
   "outputs": [],
   "source": [
    "import numpy as np\n",
    "import pandas as pd\n",
    "from roboflow import Roboflow\n",
    "import os"
   ],
   "metadata": {
    "collapsed": false,
    "ExecuteTime": {
     "end_time": "2024-01-06T10:41:03.448520797Z",
     "start_time": "2024-01-06T10:41:02.621388337Z"
    }
   },
   "id": "d419b1e066080d57",
   "execution_count": 3
  },
  {
   "cell_type": "code",
   "outputs": [
    {
     "name": "stdout",
     "output_type": "stream",
     "text": [
      "loading Roboflow workspace...\n",
      "loading Roboflow project...\n"
     ]
    },
    {
     "name": "stderr",
     "output_type": "stream",
     "text": [
      "Downloading Dataset Version Zip in GARBAGE-CLASSIFICATION-3-2 to tensorflow:: 100%|██████████| 204830/204830 [00:08<00:00, 22857.88it/s]"
     ]
    },
    {
     "name": "stdout",
     "output_type": "stream",
     "text": []
    },
    {
     "name": "stderr",
     "output_type": "stream",
     "text": [
      "\n",
      "Extracting Dataset Version Zip to GARBAGE-CLASSIFICATION-3-2 in tensorflow:: 100%|██████████| 10472/10472 [00:01<00:00, 8166.34it/s]\n"
     ]
    }
   ],
   "source": [
    "rf = Roboflow(api_key=\"PYZngL70ijcagLdXpb6l\")\n",
    "project = rf.workspace(\"material-identification\").project(\"garbage-classification-3\")\n",
    "dataset = project.version(2).download(\"tensorflow\")"
   ],
   "metadata": {
    "collapsed": false,
    "ExecuteTime": {
     "end_time": "2024-01-06T10:41:34.435643019Z",
     "start_time": "2024-01-06T10:41:20.463534814Z"
    }
   },
   "id": "d3b0893d6578dc04",
   "execution_count": 5
  },
  {
   "cell_type": "code",
   "outputs": [
    {
     "name": "stdout",
     "output_type": "stream",
     "text": [
      "51611 3563 18916\n",
      "74090\n"
     ]
    }
   ],
   "source": [
    "train = pd.read_csv('GARBAGE-CLASSIFICATION-3-2/train/_annotations.csv')\n",
    "test = pd.read_csv('GARBAGE-CLASSIFICATION-3-2/test/_annotations.csv')\n",
    "val = pd.read_csv('GARBAGE-CLASSIFICATION-3-2/valid/_annotations.csv')\n",
    "# classes = ['PAPER', 'GLASS', 'METAL_CARDBOARD_PLASTIC','BIODEGRADABLE' ,'trash']\n",
    "combined_data = pd.concat([train, test, val], ignore_index=True)\n",
    "print(len(train.index),len(test.index),len(val.index))\n",
    "print(len(combined_data.index))"
   ],
   "metadata": {
    "collapsed": false,
    "ExecuteTime": {
     "end_time": "2024-01-06T11:09:22.905983418Z",
     "start_time": "2024-01-06T11:09:22.832006551Z"
    }
   },
   "id": "d53c4f5940341c80",
   "execution_count": 28
  },
  {
   "cell_type": "code",
   "outputs": [],
   "source": [
    "    "
   ],
   "metadata": {
    "collapsed": false
   },
   "id": "3a1c819aa9530af1"
  }
 ],
 "metadata": {
  "kernelspec": {
   "display_name": "Python 3",
   "language": "python",
   "name": "python3"
  },
  "language_info": {
   "codemirror_mode": {
    "name": "ipython",
    "version": 2
   },
   "file_extension": ".py",
   "mimetype": "text/x-python",
   "name": "python",
   "nbconvert_exporter": "python",
   "pygments_lexer": "ipython2",
   "version": "2.7.6"
  }
 },
 "nbformat": 4,
 "nbformat_minor": 5
}
