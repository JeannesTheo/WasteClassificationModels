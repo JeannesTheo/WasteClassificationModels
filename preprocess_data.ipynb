{
 "cells": [
  {
   "cell_type": "code",
   "outputs": [],
   "source": [
    "import numpy as np\n",
    "import pandas as pd\n",
    "import shutil\n",
    "from roboflow import Roboflow\n",
    "import os\n",
    "import re"
   ],
   "metadata": {
    "collapsed": false,
    "ExecuteTime": {
     "end_time": "2024-01-08T07:22:49.534738331Z",
     "start_time": "2024-01-08T07:22:49.513516343Z"
    }
   },
   "id": "788651877d007054",
   "execution_count": 22
  },
  {
   "cell_type": "code",
   "outputs": [],
   "source": [
    "def clean_up(integral=False):\n",
    "    if os.path.exists('GARBAGE-CLASSIFICATION-3-2'):\n",
    "        shutil.rmtree('GARBAGE-CLASSIFICATION-3-2')\n",
    "    if integral:\n",
    "        if os.path.exists('data'):\n",
    "            shutil.rmtree('data')\n",
    "    else:\n",
    "        for file in os.listdir('data'):\n",
    "            file = os.path.join('data', file)\n",
    "            if os.path.isfile(file):\n",
    "                os.remove(file)\n",
    "\n",
    "def move_files_recursively(src,dest='data',files=None):\n",
    "    if not os.path.exists(dest):\n",
    "        os.makedirs(dest)\n",
    "    files_to_move = []\n",
    "    if files is None:\n",
    "        for root, dirs, files in os.walk(src):\n",
    "            for file in files:\n",
    "                if file.endswith('.jpg'):\n",
    "                    files_to_move.append(os.path.join(root, file))\n",
    "    else:\n",
    "        interesting_files = list(set(files) & set(os.listdir(src)))\n",
    "        for file in interesting_files:\n",
    "            files_to_move.append(os.path.join(src, file))\n",
    "    for file in files_to_move:\n",
    "        shutil.move(file, dest)"
   ],
   "metadata": {
    "collapsed": false,
    "ExecuteTime": {
     "end_time": "2024-01-08T07:22:49.560422058Z",
     "start_time": "2024-01-08T07:22:49.551990136Z"
    }
   },
   "id": "93081d68ef779394",
   "execution_count": 23
  },
  {
   "cell_type": "code",
   "outputs": [
    {
     "name": "stdout",
     "output_type": "stream",
     "text": [
      "loading Roboflow workspace...\n",
      "loading Roboflow project...\n"
     ]
    },
    {
     "name": "stderr",
     "output_type": "stream",
     "text": [
      "Downloading Dataset Version Zip in GARBAGE-CLASSIFICATION-3-2 to tensorflow:: 100%|██████████| 204830/204830 [00:07<00:00, 28045.29it/s]"
     ]
    },
    {
     "name": "stdout",
     "output_type": "stream",
     "text": []
    },
    {
     "name": "stderr",
     "output_type": "stream",
     "text": [
      "\n",
      "Extracting Dataset Version Zip to GARBAGE-CLASSIFICATION-3-2 in tensorflow:: 100%|██████████| 10472/10472 [00:00<00:00, 11414.68it/s]\n"
     ]
    }
   ],
   "source": [
    "clean_up(True)\n",
    "rf = Roboflow(api_key=\"PYZngL70ijcagLdXpb6l\")\n",
    "project = rf.workspace(\"material-identification\").project(\"garbage-classification-3\")\n",
    "dataset = project.version(2).download(\"tensorflow\")"
   ],
   "metadata": {
    "collapsed": false,
    "ExecuteTime": {
     "end_time": "2024-01-08T07:23:00.946368029Z",
     "start_time": "2024-01-08T07:22:49.564234424Z"
    }
   },
   "id": "d3b0893d6578dc04",
   "execution_count": 24
  },
  {
   "cell_type": "code",
   "outputs": [],
   "source": [
    "train = pd.read_csv('GARBAGE-CLASSIFICATION-3-2/train/_annotations.csv')\n",
    "test = pd.read_csv('GARBAGE-CLASSIFICATION-3-2/test/_annotations.csv')\n",
    "val = pd.read_csv('GARBAGE-CLASSIFICATION-3-2/valid/_annotations.csv')\n",
    "combined_data = pd.concat([train, test, val], ignore_index=True)"
   ],
   "metadata": {
    "collapsed": false,
    "ExecuteTime": {
     "end_time": "2024-01-08T07:23:01.057035688Z",
     "start_time": "2024-01-08T07:23:00.948195750Z"
    }
   },
   "id": "9b45bcc2cba547b4",
   "execution_count": 25
  },
  {
   "cell_type": "code",
   "outputs": [],
   "source": [
    "move_files_recursively('GARBAGE-CLASSIFICATION-3-2')"
   ],
   "metadata": {
    "collapsed": false,
    "ExecuteTime": {
     "end_time": "2024-01-08T07:23:01.353574839Z",
     "start_time": "2024-01-08T07:23:01.058390649Z"
    }
   },
   "id": "ee571a77fdb721a3",
   "execution_count": 26
  },
  {
   "cell_type": "code",
   "outputs": [
    {
     "data": {
      "text/plain": "class\nBIODEGRADABLE              45407\nMETAL_CARDBOARD_PLASTIC    16484\nGLASS                       7809\nPAPER                       4390\nName: count, dtype: int64"
     },
     "execution_count": 27,
     "metadata": {},
     "output_type": "execute_result"
    }
   ],
   "source": [
    "map_classes = {\n",
    "    'METAL': 'METAL_CARDBOARD_PLASTIC',\n",
    "    'CARDBOARD': 'METAL_CARDBOARD_PLASTIC',\n",
    "    'PLASTIC': 'METAL_CARDBOARD_PLASTIC',\n",
    "    'PAPER': 'PAPER',\n",
    "    'GLASS': 'GLASS',\n",
    "    'BIODEGRADABLE': 'BIODEGRADABLE'\n",
    "}\n",
    "def get_class(c):\n",
    "    for key in map_classes.keys():\n",
    "        if key==c:\n",
    "            return map_classes.get(key)\n",
    "    return c\n",
    "\n",
    "def remove_until_char(input_string,remove_char,include_char=True):\n",
    "    match = re.search(remove_char, input_string)\n",
    "    if match:\n",
    "        return input_string[match.start() + 1 if include_char else 0:]\n",
    "    return input_string\n",
    "\n",
    "def get_set_name(ratios=None):\n",
    "    if ratios is None:\n",
    "        ratios = [0.6, 0.25, 0.15]\n",
    "    rand = np.random.uniform()\n",
    "    if rand <= ratios[0]:\n",
    "        set_name = 'TRAIN'\n",
    "    elif rand <= ratios[0] + ratios[1]:\n",
    "        set_name = 'TEST'\n",
    "    else:\n",
    "        set_name = 'VAL'\n",
    "    return set_name\n",
    "\n",
    "def edit_row(row):\n",
    "    row['class'] = get_class(row['class'])\n",
    "    return row\n",
    "\n",
    "for index, row in combined_data.iterrows():\n",
    "    combined_data.loc[index] = edit_row(row)\n",
    "\n",
    "classes_occurences = combined_data['class'].value_counts()    \n",
    "classes_occurences"
   ],
   "metadata": {
    "collapsed": false,
    "ExecuteTime": {
     "end_time": "2024-01-08T07:23:23.451218212Z",
     "start_time": "2024-01-08T07:23:01.360128556Z"
    }
   },
   "id": "8638fd880f5dfd9c",
   "execution_count": 27
  },
  {
   "cell_type": "code",
   "outputs": [
    {
     "name": "stdout",
     "output_type": "stream",
     "text": [
      "Balanced dataframe shape: (17560, 8)\n",
      "Balanced dataframe shape shuffled: (17560, 8)\n"
     ]
    }
   ],
   "source": [
    "balanced_data = pd.DataFrame(columns=combined_data.columns)\n",
    "for class_label in combined_data['class'].unique():\n",
    "    class_samples = combined_data[combined_data['class'] == class_label].head(np.min(classes_occurences))\n",
    "    balanced_data = pd.concat([balanced_data, class_samples], ignore_index=True)\n",
    "print(f'Balanced dataframe shape: {balanced_data.shape}')\n",
    "balanced_data = balanced_data.sample(frac=1).reset_index(drop=True)\n",
    "print(f'Balanced dataframe shape shuffled: {balanced_data.shape}')"
   ],
   "metadata": {
    "collapsed": false,
    "ExecuteTime": {
     "end_time": "2024-01-08T07:23:23.489478844Z",
     "start_time": "2024-01-08T07:23:23.450159690Z"
    }
   },
   "id": "a9a209ad608f7603",
   "execution_count": 28
  },
  {
   "cell_type": "code",
   "outputs": [
    {
     "name": "stdout",
     "output_type": "stream",
     "text": [
      "Processed 1/17560\n",
      "Processed 501/17560\n",
      "Processed 1001/17560\n",
      "Processed 1501/17560\n",
      "Processed 2001/17560\n",
      "Processed 2501/17560\n",
      "Processed 3001/17560\n",
      "Processed 3501/17560\n",
      "Processed 4001/17560\n",
      "Processed 4501/17560\n",
      "Processed 5001/17560\n",
      "Processed 5501/17560\n",
      "Processed 6001/17560\n",
      "Processed 6501/17560\n",
      "Processed 7001/17560\n",
      "Processed 7501/17560\n",
      "Processed 8001/17560\n",
      "Processed 8501/17560\n",
      "Processed 9001/17560\n",
      "Processed 9501/17560\n",
      "Processed 10001/17560\n",
      "Processed 10501/17560\n",
      "Processed 11001/17560\n",
      "Processed 11501/17560\n",
      "Processed 12001/17560\n",
      "Processed 12501/17560\n",
      "Processed 13001/17560\n",
      "Processed 13501/17560\n",
      "Processed 14001/17560\n",
      "Processed 14501/17560\n",
      "Processed 15001/17560\n",
      "Processed 15501/17560\n",
      "Processed 16001/17560\n",
      "Processed 16501/17560\n",
      "Processed 17001/17560\n",
      "Processed 17501/17560\n"
     ]
    }
   ],
   "source": [
    "ratios = [0.6, 0.25, 0.15]\n",
    "cleansed_data = pd.DataFrame(columns=['set','filename','label','xmin_relative','ymin_relative','1','2','xmax_relative','ymax_relative','3','4'])\n",
    "for index, row in balanced_data.iterrows():\n",
    "    width = row['width']\n",
    "    height = row['height']\n",
    "    row['label']=row['class']\n",
    "    row['xmin_relative'] = row['xmin'] / width\n",
    "    row['ymin_relative'] = row['ymin'] / height\n",
    "    row['xmax_relative'] = row['xmax'] / width\n",
    "    row['ymax_relative'] = row['ymax'] / height\n",
    "    row['set'] = get_set_name(ratios)\n",
    "    row['1'] = None\n",
    "    row['2'] = None\n",
    "    row['3'] = None\n",
    "    row['4'] = None\n",
    "    cleansed_data.loc[index] = row[['set','filename','label','xmin_relative','ymin_relative','1','2','xmax_relative','ymax_relative','3','4']]\n",
    "    if index % 500 == 0:\n",
    "        print(f'Processed {index+1}/{balanced_data.shape[0]}')"
   ],
   "metadata": {
    "collapsed": false,
    "ExecuteTime": {
     "end_time": "2024-01-08T07:29:39.518493508Z",
     "start_time": "2024-01-08T07:23:23.508037718Z"
    }
   },
   "id": "129d634a9981d216",
   "execution_count": 29
  },
  {
   "cell_type": "code",
   "outputs": [
    {
     "data": {
      "text/plain": "         set                                           filename  \\\n0       TEST  glass2710_jpg.rf.1ae554fb0a41febc4e2e5b97c0f18...   \n1      TRAIN  paper1412_jpg.rf.53a29822cb375d05cdd7c05cc5553...   \n2       TEST  glass2756_jpg.rf.254540aa14cdda626e9b677f459ee...   \n3        VAL  paper304_jpg.rf.2bc2335d0e32fb9b33748efe72f483...   \n4      TRAIN  glass1838_jpg.rf.2b2c18924702d507b8c5863883c54...   \n...      ...                                                ...   \n17555   TEST  biodegradable2190_jpeg.rf.15de0aa38cb90682a7b9...   \n17556  TRAIN  glass690_jpg.rf.0f15979ae57e2c8d5d32dacb494f69...   \n17557  TRAIN  glass1027_jpg.rf.7758a9a4304396a1d723a98284cdb...   \n17558    VAL  paper1589_jpeg.rf.ae3d5de11a89a5d112c1b9c83085...   \n17559   TEST  biodegradable452_jpg.rf.1df2910bbe3dc5b348f92d...   \n\n                         label xmin_relative ymin_relative     1     2  \\\n0                        GLASS      0.790865      0.009615  None  None   \n1                        PAPER      0.822115      0.100962  None  None   \n2                        GLASS      0.004808      0.387019  None  None   \n3                        PAPER      0.002404      0.002404  None  None   \n4      METAL_CARDBOARD_PLASTIC      0.401442      0.634615  None  None   \n...                        ...           ...           ...   ...   ...   \n17555            BIODEGRADABLE      0.634615      0.485577  None  None   \n17556                    GLASS      0.036058      0.036058  None  None   \n17557                    GLASS        0.3125      0.694712  None  None   \n17558                    PAPER      0.367788      0.584135  None  None   \n17559            BIODEGRADABLE      0.927885      0.882212  None  None   \n\n      xmax_relative ymax_relative     3     4  \n0          0.911058      0.091346  None  None  \n1          0.997596      0.646635  None  None  \n2          0.076923      0.444712  None  None  \n3          0.802885      0.987981  None  None  \n4          0.509615      0.846154  None  None  \n...             ...           ...   ...   ...  \n17555      0.670673      0.528846  None  None  \n17556      0.319712      0.396635  None  None  \n17557      0.377404      0.728365  None  None  \n17558       0.71875      0.995192  None  None  \n17559      0.959135      0.939904  None  None  \n\n[17560 rows x 11 columns]",
      "text/html": "<div>\n<style scoped>\n    .dataframe tbody tr th:only-of-type {\n        vertical-align: middle;\n    }\n\n    .dataframe tbody tr th {\n        vertical-align: top;\n    }\n\n    .dataframe thead th {\n        text-align: right;\n    }\n</style>\n<table border=\"1\" class=\"dataframe\">\n  <thead>\n    <tr style=\"text-align: right;\">\n      <th></th>\n      <th>set</th>\n      <th>filename</th>\n      <th>label</th>\n      <th>xmin_relative</th>\n      <th>ymin_relative</th>\n      <th>1</th>\n      <th>2</th>\n      <th>xmax_relative</th>\n      <th>ymax_relative</th>\n      <th>3</th>\n      <th>4</th>\n    </tr>\n  </thead>\n  <tbody>\n    <tr>\n      <th>0</th>\n      <td>TEST</td>\n      <td>glass2710_jpg.rf.1ae554fb0a41febc4e2e5b97c0f18...</td>\n      <td>GLASS</td>\n      <td>0.790865</td>\n      <td>0.009615</td>\n      <td>None</td>\n      <td>None</td>\n      <td>0.911058</td>\n      <td>0.091346</td>\n      <td>None</td>\n      <td>None</td>\n    </tr>\n    <tr>\n      <th>1</th>\n      <td>TRAIN</td>\n      <td>paper1412_jpg.rf.53a29822cb375d05cdd7c05cc5553...</td>\n      <td>PAPER</td>\n      <td>0.822115</td>\n      <td>0.100962</td>\n      <td>None</td>\n      <td>None</td>\n      <td>0.997596</td>\n      <td>0.646635</td>\n      <td>None</td>\n      <td>None</td>\n    </tr>\n    <tr>\n      <th>2</th>\n      <td>TEST</td>\n      <td>glass2756_jpg.rf.254540aa14cdda626e9b677f459ee...</td>\n      <td>GLASS</td>\n      <td>0.004808</td>\n      <td>0.387019</td>\n      <td>None</td>\n      <td>None</td>\n      <td>0.076923</td>\n      <td>0.444712</td>\n      <td>None</td>\n      <td>None</td>\n    </tr>\n    <tr>\n      <th>3</th>\n      <td>VAL</td>\n      <td>paper304_jpg.rf.2bc2335d0e32fb9b33748efe72f483...</td>\n      <td>PAPER</td>\n      <td>0.002404</td>\n      <td>0.002404</td>\n      <td>None</td>\n      <td>None</td>\n      <td>0.802885</td>\n      <td>0.987981</td>\n      <td>None</td>\n      <td>None</td>\n    </tr>\n    <tr>\n      <th>4</th>\n      <td>TRAIN</td>\n      <td>glass1838_jpg.rf.2b2c18924702d507b8c5863883c54...</td>\n      <td>METAL_CARDBOARD_PLASTIC</td>\n      <td>0.401442</td>\n      <td>0.634615</td>\n      <td>None</td>\n      <td>None</td>\n      <td>0.509615</td>\n      <td>0.846154</td>\n      <td>None</td>\n      <td>None</td>\n    </tr>\n    <tr>\n      <th>...</th>\n      <td>...</td>\n      <td>...</td>\n      <td>...</td>\n      <td>...</td>\n      <td>...</td>\n      <td>...</td>\n      <td>...</td>\n      <td>...</td>\n      <td>...</td>\n      <td>...</td>\n      <td>...</td>\n    </tr>\n    <tr>\n      <th>17555</th>\n      <td>TEST</td>\n      <td>biodegradable2190_jpeg.rf.15de0aa38cb90682a7b9...</td>\n      <td>BIODEGRADABLE</td>\n      <td>0.634615</td>\n      <td>0.485577</td>\n      <td>None</td>\n      <td>None</td>\n      <td>0.670673</td>\n      <td>0.528846</td>\n      <td>None</td>\n      <td>None</td>\n    </tr>\n    <tr>\n      <th>17556</th>\n      <td>TRAIN</td>\n      <td>glass690_jpg.rf.0f15979ae57e2c8d5d32dacb494f69...</td>\n      <td>GLASS</td>\n      <td>0.036058</td>\n      <td>0.036058</td>\n      <td>None</td>\n      <td>None</td>\n      <td>0.319712</td>\n      <td>0.396635</td>\n      <td>None</td>\n      <td>None</td>\n    </tr>\n    <tr>\n      <th>17557</th>\n      <td>TRAIN</td>\n      <td>glass1027_jpg.rf.7758a9a4304396a1d723a98284cdb...</td>\n      <td>GLASS</td>\n      <td>0.3125</td>\n      <td>0.694712</td>\n      <td>None</td>\n      <td>None</td>\n      <td>0.377404</td>\n      <td>0.728365</td>\n      <td>None</td>\n      <td>None</td>\n    </tr>\n    <tr>\n      <th>17558</th>\n      <td>VAL</td>\n      <td>paper1589_jpeg.rf.ae3d5de11a89a5d112c1b9c83085...</td>\n      <td>PAPER</td>\n      <td>0.367788</td>\n      <td>0.584135</td>\n      <td>None</td>\n      <td>None</td>\n      <td>0.71875</td>\n      <td>0.995192</td>\n      <td>None</td>\n      <td>None</td>\n    </tr>\n    <tr>\n      <th>17559</th>\n      <td>TEST</td>\n      <td>biodegradable452_jpg.rf.1df2910bbe3dc5b348f92d...</td>\n      <td>BIODEGRADABLE</td>\n      <td>0.927885</td>\n      <td>0.882212</td>\n      <td>None</td>\n      <td>None</td>\n      <td>0.959135</td>\n      <td>0.939904</td>\n      <td>None</td>\n      <td>None</td>\n    </tr>\n  </tbody>\n</table>\n<p>17560 rows × 11 columns</p>\n</div>"
     },
     "execution_count": 30,
     "metadata": {},
     "output_type": "execute_result"
    }
   ],
   "source": [
    "cleansed_data.to_csv('data/annotations.csv', index=False)\n",
    "cleansed_data"
   ],
   "metadata": {
    "collapsed": false,
    "ExecuteTime": {
     "end_time": "2024-01-08T07:29:39.592791124Z",
     "start_time": "2024-01-08T07:29:39.520374839Z"
    }
   },
   "id": "d461d33dc60b2d6a",
   "execution_count": 30
  }
 ],
 "metadata": {
  "kernelspec": {
   "display_name": "Python 3",
   "language": "python",
   "name": "python3"
  },
  "language_info": {
   "codemirror_mode": {
    "name": "ipython",
    "version": 2
   },
   "file_extension": ".py",
   "mimetype": "text/x-python",
   "name": "python",
   "nbconvert_exporter": "python",
   "pygments_lexer": "ipython2",
   "version": "2.7.6"
  }
 },
 "nbformat": 4,
 "nbformat_minor": 5
}
