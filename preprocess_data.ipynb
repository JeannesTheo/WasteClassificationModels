{
 "cells": [
  {
   "cell_type": "code",
   "outputs": [],
   "source": [
    "import numpy as np\n",
    "import pandas as pd\n",
    "import shutil\n",
    "from roboflow import Roboflow\n",
    "import os\n",
    "import re"
   ],
   "metadata": {
    "collapsed": false,
    "ExecuteTime": {
     "end_time": "2024-01-07T12:31:27.541298955Z",
     "start_time": "2024-01-07T12:31:27.540148399Z"
    }
   },
   "id": "788651877d007054",
   "execution_count": 28
  },
  {
   "cell_type": "code",
   "outputs": [],
   "source": [
    "def clean_up(integral=False):\n",
    "    if os.path.exists('GARBAGE-CLASSIFICATION-3-2'):\n",
    "        shutil.rmtree('GARBAGE-CLASSIFICATION-3-2')\n",
    "    if integral:\n",
    "        if os.path.exists('data'):\n",
    "            shutil.rmtree('data')\n",
    "    else:\n",
    "        for file in os.listdir('data'):\n",
    "            file = os.path.join('data', file)\n",
    "            if os.path.isfile(file):\n",
    "                os.remove(file)\n",
    "\n",
    "def move_files_recursively(src,dest='data',files=None):\n",
    "    if not os.path.exists(dest):\n",
    "        os.makedirs(dest)\n",
    "    files_to_move = []\n",
    "    if files is None:\n",
    "        for root, dirs, files in os.walk(src):\n",
    "            for file in files:\n",
    "                if file.endswith('.jpg'):\n",
    "                    files_to_move.append(os.path.join(root, file))\n",
    "    else:\n",
    "        interesting_files = list(set(files) & set(os.listdir(src)))\n",
    "        for file in interesting_files:\n",
    "            files_to_move.append(os.path.join(src, file))\n",
    "    for file in files_to_move:\n",
    "        shutil.move(file, dest)"
   ],
   "metadata": {
    "collapsed": false,
    "ExecuteTime": {
     "end_time": "2024-01-07T12:31:27.541706612Z",
     "start_time": "2024-01-07T12:31:27.540307508Z"
    }
   },
   "id": "93081d68ef779394",
   "execution_count": 29
  },
  {
   "cell_type": "code",
   "outputs": [
    {
     "name": "stdout",
     "output_type": "stream",
     "text": [
      "loading Roboflow workspace...\n",
      "loading Roboflow project...\n"
     ]
    },
    {
     "name": "stderr",
     "output_type": "stream",
     "text": [
      "Downloading Dataset Version Zip in GARBAGE-CLASSIFICATION-3-2 to tensorflow:: 100%|██████████| 204830/204830 [00:06<00:00, 32292.71it/s]\n"
     ]
    },
    {
     "name": "stdout",
     "output_type": "stream",
     "text": []
    },
    {
     "name": "stderr",
     "output_type": "stream",
     "text": [
      "Extracting Dataset Version Zip to GARBAGE-CLASSIFICATION-3-2 in tensorflow:: 100%|██████████| 10472/10472 [00:00<00:00, 11291.35it/s]\n"
     ]
    }
   ],
   "source": [
    "clean_up(True)\n",
    "rf = Roboflow(api_key=\"PYZngL70ijcagLdXpb6l\")\n",
    "project = rf.workspace(\"material-identification\").project(\"garbage-classification-3\")\n",
    "dataset = project.version(2).download(\"tensorflow\")"
   ],
   "metadata": {
    "collapsed": false,
    "ExecuteTime": {
     "end_time": "2024-01-07T12:31:38.011543575Z",
     "start_time": "2024-01-07T12:31:27.540386306Z"
    }
   },
   "id": "d3b0893d6578dc04",
   "execution_count": 30
  },
  {
   "cell_type": "code",
   "outputs": [],
   "source": [
    "train = pd.read_csv('GARBAGE-CLASSIFICATION-3-2/train/_annotations.csv')\n",
    "test = pd.read_csv('GARBAGE-CLASSIFICATION-3-2/test/_annotations.csv')\n",
    "val = pd.read_csv('GARBAGE-CLASSIFICATION-3-2/valid/_annotations.csv')\n",
    "combined_data = pd.concat([train, test, val], ignore_index=True)"
   ],
   "metadata": {
    "collapsed": false,
    "ExecuteTime": {
     "end_time": "2024-01-07T12:31:38.069951189Z",
     "start_time": "2024-01-07T12:31:38.011364428Z"
    }
   },
   "id": "9b45bcc2cba547b4",
   "execution_count": 31
  },
  {
   "cell_type": "code",
   "outputs": [],
   "source": [
    "move_files_recursively('GARBAGE-CLASSIFICATION-3-2')"
   ],
   "metadata": {
    "collapsed": false,
    "ExecuteTime": {
     "end_time": "2024-01-07T12:31:38.369935179Z",
     "start_time": "2024-01-07T12:31:38.071023749Z"
    }
   },
   "id": "ee571a77fdb721a3",
   "execution_count": 32
  },
  {
   "cell_type": "code",
   "outputs": [],
   "source": [
    "map_classes = {\n",
    "    'METAL': 0,\n",
    "    'CARDBOARD': 0,\n",
    "    'PLASTIC': 0,\n",
    "    'PAPER': 1,\n",
    "    'GLASS': 2,\n",
    "    'BIODEGRADABLE': 3\n",
    "}\n",
    "def get_class(c):\n",
    "    for key in map_classes.keys():\n",
    "        if key==c:\n",
    "            return map_classes.get(key)\n",
    "    return c\n",
    "\n",
    "def remove_until_char(input_string,remove_char,include_char=True):\n",
    "    match = re.search(remove_char, input_string)\n",
    "    if match:\n",
    "        return input_string[match.start() + 1 if include_char else 0:]\n",
    "    return input_string\n",
    "\n",
    "def edit_row(row):\n",
    "    # file_name = row['filename']\n",
    "    classe = get_class(row['class'])\n",
    "    # file_name_modified = f'{classe.lower()}{remove_until_char(file_name,remove_char=\"_\",include_char=False)}'\n",
    "    # row['filename'] = file_name_modified\n",
    "    row['class'] = classe\n",
    "    # if os.path.exists(f'data/{file_name}'):\n",
    "    #     os.rename(f'data/{file_name}', f'data/{file_name_modified}')\n",
    "    return row\n",
    "\n",
    "for index, row in combined_data.iterrows():\n",
    "    combined_data.loc[index] = edit_row(row)\n",
    "\n",
    "classes = ['PAPER', 'GLASS', 'METAL_CARDBOARD_PLASTIC','BIODEGRADABLE']\n",
    "combined_data['class'] = combined_data['class'].apply(get_class)\n",
    "\n",
    "classes_occurences = combined_data['class'].value_counts()    "
   ],
   "metadata": {
    "collapsed": false,
    "ExecuteTime": {
     "end_time": "2024-01-07T12:31:59.318539479Z",
     "start_time": "2024-01-07T12:31:38.375885301Z"
    }
   },
   "id": "8638fd880f5dfd9c",
   "execution_count": 33
  },
  {
   "cell_type": "code",
   "outputs": [
    {
     "name": "stdout",
     "output_type": "stream",
     "text": [
      "Dataframe shape: (74090, 8)\n",
      "Dataframe shape shuffled: (74090, 8)\n",
      "Balanced dataframe shape: (17560, 8)\n",
      "Balanced dataframe shape shuffled: (17560, 8)\n"
     ]
    }
   ],
   "source": [
    "print(f'Dataframe shape: {combined_data.shape}')\n",
    "combined_data = combined_data.sample(frac=1).reset_index(drop=True) #in place shuffle\n",
    "print(f'Dataframe shape shuffled: {combined_data.shape}')\n",
    "balanced_data = pd.DataFrame(columns=combined_data.columns)\n",
    "for class_label in combined_data['class'].unique():\n",
    "    class_samples = combined_data[combined_data['class'] == class_label].head(np.min(classes_occurences))\n",
    "    balanced_data = pd.concat([balanced_data, class_samples], ignore_index=True)\n",
    "print(f'Balanced dataframe shape: {balanced_data.shape}')\n",
    "balanced_data = balanced_data.sample(frac=1).reset_index(drop=True)\n",
    "print(f'Balanced dataframe shape shuffled: {balanced_data.shape}')"
   ],
   "metadata": {
    "collapsed": false,
    "ExecuteTime": {
     "end_time": "2024-01-07T12:31:59.356099853Z",
     "start_time": "2024-01-07T12:31:59.323262661Z"
    }
   },
   "id": "a9a209ad608f7603",
   "execution_count": 34
  },
  {
   "cell_type": "code",
   "outputs": [],
   "source": [
    "ratios=[0.6, 0.25, 0.15]\n",
    "\n",
    "def get_set_name():\n",
    "    rand = np.random.uniform()\n",
    "    if rand <= ratios[0]:\n",
    "        set_name = 'TRAIN'\n",
    "    elif rand <= ratios[0] + ratios[1]:\n",
    "        set_name = 'TEST'\n",
    "    else:\n",
    "        set_name = 'VAL'\n",
    "    return set_name\n",
    "\n",
    "balanced_data['set'] = balanced_data.apply(lambda row: get_set_name(), axis=1) "
   ],
   "metadata": {
    "collapsed": false,
    "ExecuteTime": {
     "end_time": "2024-01-07T12:31:59.411361134Z",
     "start_time": "2024-01-07T12:31:59.397384080Z"
    }
   },
   "id": "bfcfa057151e7738",
   "execution_count": 35
  },
  {
   "cell_type": "code",
   "outputs": [
    {
     "data": {
      "text/plain": "                                                filename width height class  \\\n0      paper1698_jpeg.rf.8f9209f8db6c8217bb3a22c65cf6...   416    416     1   \n1      paper305_jpg.rf.fe50060e4ff619ccfca8ece48dd093...   416    416     1   \n2      paper1174_jpg.rf.482d3389b117a5af7a4f1a9696701...   416    416     1   \n3      paper1230_jpg.rf.29a95d9839e17dd1e4b822fbb3600...   416    416     1   \n4      biodegradable2166_jpeg.rf.7b649a31ebc54f2d1df3...   416    416     3   \n...                                                  ...   ...    ...   ...   \n17555  biodegradable2177_jpeg.rf.0f18b50efbdead9a6d21...   416    416     1   \n17556  biodegradable1397_jpg.rf.d83a0f42f37112a9511ae...   416    416     3   \n17557  paper1898_jpg.rf.df7551e7b72a8e74d10a791e376aa...   416    416     1   \n17558  paper1925_jpg.rf.4d86dd922ff6eb7308eec43ab556f...   416    416     1   \n17559  cardboard1391_jpg.rf.40be384b3cda43ce98f55df64...   416    416     0   \n\n      xmin ymin xmax ymax    set  \n0        0    1  415  415    VAL  \n1       24   10  246  143  TRAIN  \n2       88   54  320  144   TEST  \n3        2    0  308  361   TEST  \n4      289  221  307  243  TRAIN  \n...    ...  ...  ...  ...    ...  \n17555  195  314  324  389    VAL  \n17556  245  146  357  217  TRAIN  \n17557  254    1  415  143  TRAIN  \n17558  158   22  401  412  TRAIN  \n17559   66  261  414  399   TEST  \n\n[17560 rows x 9 columns]",
      "text/html": "<div>\n<style scoped>\n    .dataframe tbody tr th:only-of-type {\n        vertical-align: middle;\n    }\n\n    .dataframe tbody tr th {\n        vertical-align: top;\n    }\n\n    .dataframe thead th {\n        text-align: right;\n    }\n</style>\n<table border=\"1\" class=\"dataframe\">\n  <thead>\n    <tr style=\"text-align: right;\">\n      <th></th>\n      <th>filename</th>\n      <th>width</th>\n      <th>height</th>\n      <th>class</th>\n      <th>xmin</th>\n      <th>ymin</th>\n      <th>xmax</th>\n      <th>ymax</th>\n      <th>set</th>\n    </tr>\n  </thead>\n  <tbody>\n    <tr>\n      <th>0</th>\n      <td>paper1698_jpeg.rf.8f9209f8db6c8217bb3a22c65cf6...</td>\n      <td>416</td>\n      <td>416</td>\n      <td>1</td>\n      <td>0</td>\n      <td>1</td>\n      <td>415</td>\n      <td>415</td>\n      <td>VAL</td>\n    </tr>\n    <tr>\n      <th>1</th>\n      <td>paper305_jpg.rf.fe50060e4ff619ccfca8ece48dd093...</td>\n      <td>416</td>\n      <td>416</td>\n      <td>1</td>\n      <td>24</td>\n      <td>10</td>\n      <td>246</td>\n      <td>143</td>\n      <td>TRAIN</td>\n    </tr>\n    <tr>\n      <th>2</th>\n      <td>paper1174_jpg.rf.482d3389b117a5af7a4f1a9696701...</td>\n      <td>416</td>\n      <td>416</td>\n      <td>1</td>\n      <td>88</td>\n      <td>54</td>\n      <td>320</td>\n      <td>144</td>\n      <td>TEST</td>\n    </tr>\n    <tr>\n      <th>3</th>\n      <td>paper1230_jpg.rf.29a95d9839e17dd1e4b822fbb3600...</td>\n      <td>416</td>\n      <td>416</td>\n      <td>1</td>\n      <td>2</td>\n      <td>0</td>\n      <td>308</td>\n      <td>361</td>\n      <td>TEST</td>\n    </tr>\n    <tr>\n      <th>4</th>\n      <td>biodegradable2166_jpeg.rf.7b649a31ebc54f2d1df3...</td>\n      <td>416</td>\n      <td>416</td>\n      <td>3</td>\n      <td>289</td>\n      <td>221</td>\n      <td>307</td>\n      <td>243</td>\n      <td>TRAIN</td>\n    </tr>\n    <tr>\n      <th>...</th>\n      <td>...</td>\n      <td>...</td>\n      <td>...</td>\n      <td>...</td>\n      <td>...</td>\n      <td>...</td>\n      <td>...</td>\n      <td>...</td>\n      <td>...</td>\n    </tr>\n    <tr>\n      <th>17555</th>\n      <td>biodegradable2177_jpeg.rf.0f18b50efbdead9a6d21...</td>\n      <td>416</td>\n      <td>416</td>\n      <td>1</td>\n      <td>195</td>\n      <td>314</td>\n      <td>324</td>\n      <td>389</td>\n      <td>VAL</td>\n    </tr>\n    <tr>\n      <th>17556</th>\n      <td>biodegradable1397_jpg.rf.d83a0f42f37112a9511ae...</td>\n      <td>416</td>\n      <td>416</td>\n      <td>3</td>\n      <td>245</td>\n      <td>146</td>\n      <td>357</td>\n      <td>217</td>\n      <td>TRAIN</td>\n    </tr>\n    <tr>\n      <th>17557</th>\n      <td>paper1898_jpg.rf.df7551e7b72a8e74d10a791e376aa...</td>\n      <td>416</td>\n      <td>416</td>\n      <td>1</td>\n      <td>254</td>\n      <td>1</td>\n      <td>415</td>\n      <td>143</td>\n      <td>TRAIN</td>\n    </tr>\n    <tr>\n      <th>17558</th>\n      <td>paper1925_jpg.rf.4d86dd922ff6eb7308eec43ab556f...</td>\n      <td>416</td>\n      <td>416</td>\n      <td>1</td>\n      <td>158</td>\n      <td>22</td>\n      <td>401</td>\n      <td>412</td>\n      <td>TRAIN</td>\n    </tr>\n    <tr>\n      <th>17559</th>\n      <td>cardboard1391_jpg.rf.40be384b3cda43ce98f55df64...</td>\n      <td>416</td>\n      <td>416</td>\n      <td>0</td>\n      <td>66</td>\n      <td>261</td>\n      <td>414</td>\n      <td>399</td>\n      <td>TEST</td>\n    </tr>\n  </tbody>\n</table>\n<p>17560 rows × 9 columns</p>\n</div>"
     },
     "execution_count": 36,
     "metadata": {},
     "output_type": "execute_result"
    }
   ],
   "source": [
    "balanced_data.head().to_csv('data/annotations.csv', index=False)\n",
    "balanced_data"
   ],
   "metadata": {
    "collapsed": false,
    "ExecuteTime": {
     "end_time": "2024-01-07T12:31:59.457315422Z",
     "start_time": "2024-01-07T12:31:59.412495860Z"
    }
   },
   "id": "d461d33dc60b2d6a",
   "execution_count": 36
  },
  {
   "cell_type": "code",
   "outputs": [],
   "source": [
    "# set,filename,class,xmin_relative,ymin_relative,_,_,xmax_relative,ymax_relative,_,_\n",
    "# VAL,paper1698_jpeg.rf.8f9209f8db6c8217bb3a22c65cf69f9c.jpg,1,0,0,,,1,1,,\n",
    "# TRAIN,paper305_jpg.rf.fe50060e4ff619ccfca8ece48dd09355.jpg,1,.06,.02,,,.59,.34,,\n",
    "# TEST,paper1174_jpg.rf.482d3389b117a5af7a4f1a9696701419.jpg,1,.21,.13,,,.77,.35,,\n",
    "# TEST,paper1230_jpg.rf.29a95d9839e17dd1e4b822fbb360074e.jpg,1,0,0,,,.74,.87,,\n",
    "# TRAIN,biodegradable2166_jpeg.rf.7b649a31ebc54f2d1df322d4ebe6975d.jpg,3,.69,.53,,,.74,.58,,"
   ],
   "metadata": {
    "collapsed": false
   },
   "id": "93680b7215e58ce3"
  }
 ],
 "metadata": {
  "kernelspec": {
   "display_name": "Python 3",
   "language": "python",
   "name": "python3"
  },
  "language_info": {
   "codemirror_mode": {
    "name": "ipython",
    "version": 2
   },
   "file_extension": ".py",
   "mimetype": "text/x-python",
   "name": "python",
   "nbconvert_exporter": "python",
   "pygments_lexer": "ipython2",
   "version": "2.7.6"
  }
 },
 "nbformat": 4,
 "nbformat_minor": 5
}
