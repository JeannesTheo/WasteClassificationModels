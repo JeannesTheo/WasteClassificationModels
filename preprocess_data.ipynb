{
 "cells": [
  {
   "cell_type": "code",
   "outputs": [],
   "source": [
    "import numpy as np\n",
    "import pandas as pd\n",
    "import shutil\n",
    "from roboflow import Roboflow\n",
    "import os\n",
    "import re"
   ],
   "metadata": {
    "collapsed": false,
    "ExecuteTime": {
     "end_time": "2024-01-07T02:05:25.735862927Z",
     "start_time": "2024-01-07T02:05:25.731167075Z"
    }
   },
   "id": "788651877d007054",
   "execution_count": 389
  },
  {
   "cell_type": "code",
   "outputs": [],
   "source": [
    "def clean_up(integral=False):\n",
    "    if os.path.exists('GARBAGE-CLASSIFICATION-3-2'):\n",
    "        shutil.rmtree('GARBAGE-CLASSIFICATION-3-2')\n",
    "    if integral:\n",
    "        if os.path.exists('data'):\n",
    "            shutil.rmtree('data')\n",
    "    else:\n",
    "        for file in os.listdir('data'):\n",
    "            file = os.path.join('data', file)\n",
    "            if os.path.isfile(file):\n",
    "                os.remove(file)\n",
    "\n",
    "def move_files_recursively(src,dest='data',files=None):\n",
    "    if not os.path.exists(dest):\n",
    "        os.makedirs(dest)\n",
    "    files_to_move = []\n",
    "    if files is None:\n",
    "        for root, dirs, files in os.walk(src):\n",
    "            for file in files:\n",
    "                if file.endswith('.jpg'):\n",
    "                    files_to_move.append(os.path.join(root, file))\n",
    "    else:\n",
    "        interesting_files = list(set(files) & set(os.listdir(src)))\n",
    "        for file in interesting_files:\n",
    "            files_to_move.append(os.path.join(src, file))\n",
    "    for file in files_to_move:\n",
    "        shutil.move(file, dest)"
   ],
   "metadata": {
    "collapsed": false,
    "ExecuteTime": {
     "end_time": "2024-01-07T02:05:25.779147642Z",
     "start_time": "2024-01-07T02:05:25.735944892Z"
    }
   },
   "id": "93081d68ef779394",
   "execution_count": 390
  },
  {
   "cell_type": "code",
   "outputs": [
    {
     "name": "stdout",
     "output_type": "stream",
     "text": [
      "loading Roboflow workspace...\n",
      "loading Roboflow project...\n"
     ]
    },
    {
     "name": "stderr",
     "output_type": "stream",
     "text": [
      "Downloading Dataset Version Zip in GARBAGE-CLASSIFICATION-3-2 to tensorflow:: 100%|██████████| 204830/204830 [00:06<00:00, 33822.03it/s]"
     ]
    },
    {
     "name": "stdout",
     "output_type": "stream",
     "text": []
    },
    {
     "name": "stderr",
     "output_type": "stream",
     "text": [
      "\n",
      "Extracting Dataset Version Zip to GARBAGE-CLASSIFICATION-3-2 in tensorflow:: 100%|██████████| 10472/10472 [00:00<00:00, 11028.00it/s]\n"
     ]
    }
   ],
   "source": [
    "clean_up(True)\n",
    "rf = Roboflow(api_key=\"PYZngL70ijcagLdXpb6l\")\n",
    "project = rf.workspace(\"material-identification\").project(\"garbage-classification-3\")\n",
    "dataset = project.version(2).download(\"tensorflow\")"
   ],
   "metadata": {
    "collapsed": false,
    "ExecuteTime": {
     "end_time": "2024-01-07T02:05:36.697807215Z",
     "start_time": "2024-01-07T02:05:25.762020992Z"
    }
   },
   "id": "d3b0893d6578dc04",
   "execution_count": 391
  },
  {
   "cell_type": "code",
   "outputs": [],
   "source": [
    "train = pd.read_csv('GARBAGE-CLASSIFICATION-3-2/train/_annotations.csv')\n",
    "test = pd.read_csv('GARBAGE-CLASSIFICATION-3-2/test/_annotations.csv')\n",
    "val = pd.read_csv('GARBAGE-CLASSIFICATION-3-2/valid/_annotations.csv')\n",
    "combined_data = pd.concat([train, test, val], ignore_index=True)"
   ],
   "metadata": {
    "collapsed": false,
    "ExecuteTime": {
     "end_time": "2024-01-07T02:05:36.790347936Z",
     "start_time": "2024-01-07T02:05:36.693303985Z"
    }
   },
   "id": "9b45bcc2cba547b4",
   "execution_count": 392
  },
  {
   "cell_type": "code",
   "outputs": [],
   "source": [
    "move_files_recursively('GARBAGE-CLASSIFICATION-3-2')"
   ],
   "metadata": {
    "collapsed": false,
    "ExecuteTime": {
     "end_time": "2024-01-07T02:05:37.123913018Z",
     "start_time": "2024-01-07T02:05:36.787870340Z"
    }
   },
   "id": "ee571a77fdb721a3",
   "execution_count": 393
  },
  {
   "cell_type": "code",
   "outputs": [],
   "source": [
    "map_classes = {\n",
    "    'METAL': 0,\n",
    "    'CARDBOARD': 0,\n",
    "    'PLASTIC': 0,\n",
    "    'PAPER': 1,\n",
    "    'GLASS': 2,\n",
    "    'BIODEGRADABLE': 3\n",
    "}\n",
    "def get_class(c):\n",
    "    for key in map_classes.keys():\n",
    "        if key==c:\n",
    "            return map_classes.get(key)\n",
    "    return c\n",
    "\n",
    "def remove_until_char(input_string,remove_char,include_char=True):\n",
    "    match = re.search(remove_char, input_string)\n",
    "    if match:\n",
    "        return input_string[match.start() + 1 if include_char else 0:]\n",
    "    return input_string\n",
    "\n",
    "def edit_row(row):\n",
    "    # file_name = row['filename']\n",
    "    classe = get_class(row['class'])\n",
    "    # file_name_modified = f'{classe.lower()}{remove_until_char(file_name,remove_char=\"_\",include_char=False)}'\n",
    "    # row['filename'] = file_name_modified\n",
    "    row['class'] = classe\n",
    "    # if os.path.exists(f'data/{file_name}'):\n",
    "    #     os.rename(f'data/{file_name}', f'data/{file_name_modified}')\n",
    "    return row\n",
    "\n",
    "for index, row in combined_data.iterrows():\n",
    "    combined_data.loc[index] = edit_row(row)\n",
    "\n",
    "classes = ['PAPER', 'GLASS', 'METAL_CARDBOARD_PLASTIC','BIODEGRADABLE']\n",
    "combined_data['class'] = combined_data['class'].apply(get_class)\n",
    "\n",
    "classes_occurences = combined_data['class'].value_counts()    "
   ],
   "metadata": {
    "collapsed": false,
    "ExecuteTime": {
     "end_time": "2024-01-07T02:05:57.812138048Z",
     "start_time": "2024-01-07T02:05:37.127014107Z"
    }
   },
   "id": "8638fd880f5dfd9c",
   "execution_count": 394
  },
  {
   "cell_type": "code",
   "outputs": [
    {
     "name": "stdout",
     "output_type": "stream",
     "text": [
      "Dataframe shape: (74090, 8)\n",
      "Dataframe shape shuffled: (74090, 8)\n",
      "Balanced dataframe shape: (17560, 8)\n",
      "Balanced dataframe shape shuffled: (17560, 8)\n"
     ]
    }
   ],
   "source": [
    "print(f'Dataframe shape: {combined_data.shape}')\n",
    "combined_data = combined_data.sample(frac=1).reset_index(drop=True) #in place shuffle\n",
    "print(f'Dataframe shape shuffled: {combined_data.shape}')\n",
    "balanced_data = pd.DataFrame(columns=combined_data.columns)\n",
    "for class_label in combined_data['class'].unique():\n",
    "    class_samples = combined_data[combined_data['class'] == class_label].head(np.min(classes_occurences))\n",
    "    balanced_data = pd.concat([balanced_data, class_samples], ignore_index=True)\n",
    "print(f'Balanced dataframe shape: {balanced_data.shape}')\n",
    "balanced_data = balanced_data.sample(frac=1).reset_index(drop=True)\n",
    "print(f'Balanced dataframe shape shuffled: {balanced_data.shape}')\n",
    "balanced_data.to_csv('data/balanced_annotations.csv', index=False)"
   ],
   "metadata": {
    "collapsed": false,
    "ExecuteTime": {
     "end_time": "2024-01-07T02:05:57.865624371Z",
     "start_time": "2024-01-07T02:05:57.853565003Z"
    }
   },
   "id": "a9a209ad608f7603",
   "execution_count": 395
  },
  {
   "cell_type": "code",
   "outputs": [],
   "source": [
    "ratios=[0.6, 0.25, 0.15]\n",
    "\n",
    "\n",
    "def get_set_name():\n",
    "    rand = np.random.uniform()\n",
    "    if rand <= ratios[0]:\n",
    "        set_name = 'TRAIN'\n",
    "    elif rand <= ratios[0] + ratios[1]:\n",
    "        set_name = 'TEST'\n",
    "    else:\n",
    "        set_name = 'VAL'\n",
    "    return set_name\n",
    "\n",
    "balanced_data['set'] = balanced_data.apply(lambda row: get_set_name(), axis=1) "
   ],
   "metadata": {
    "collapsed": false,
    "ExecuteTime": {
     "end_time": "2024-01-07T02:05:57.920260369Z",
     "start_time": "2024-01-07T02:05:57.897362292Z"
    }
   },
   "id": "bfcfa057151e7738",
   "execution_count": 396
  },
  {
   "cell_type": "code",
   "outputs": [
    {
     "data": {
      "text/plain": "                                                filename width height class  \\\n0      paper183_jpg.rf.0a02cd08383d2d3c1c5ff1b465b3ad...   416    416     1   \n1      cardboard442_jpg.rf.a316f85a031314fcbb04af7d7d...   416    416     0   \n2      cardboard1299_jpg.rf.8dc041efa9d5eb17dcdccb772...   416    416     0   \n3      paper2003_jpg.rf.ed53d988f025a95cd0ddc9a388b8c...   416    416     1   \n4      biodegradable456_jpg.rf.6796979e1bde834fe6d26c...   416    416     3   \n...                                                  ...   ...    ...   ...   \n17555  biodegradable1644_jpg.rf.12fa4ef84042e676e4ae5...   416    416     3   \n17556  glass1743_jpg.rf.386f202fe224a7bb2f2223cdb504d...   416    416     2   \n17557  glass1584_jpg.rf.5de7d2435d1ee4c4872de7b67ec5a...   416    416     2   \n17558  paper1025_jpg.rf.6081505db67655fcd54d3a0da076c...   416    416     1   \n17559  glass2269_jpg.rf.4d46c78a096bbe2b28c97930c8d8f...   416    416     2   \n\n      xmin ymin xmax ymax    set  \n0      107  220  414  414   TEST  \n1        4   52  404  361  TRAIN  \n2       52  104  221  364  TRAIN  \n3      105    0  333  377   TEST  \n4      300  371  397  415   TEST  \n...    ...  ...  ...  ...    ...  \n17555  166   18  200   59  TRAIN  \n17556  222   30  362  387    VAL  \n17557  154  304  320  411  TRAIN  \n17558  305  125  395  320  TRAIN  \n17559  339   18  365   39  TRAIN  \n\n[17560 rows x 9 columns]",
      "text/html": "<div>\n<style scoped>\n    .dataframe tbody tr th:only-of-type {\n        vertical-align: middle;\n    }\n\n    .dataframe tbody tr th {\n        vertical-align: top;\n    }\n\n    .dataframe thead th {\n        text-align: right;\n    }\n</style>\n<table border=\"1\" class=\"dataframe\">\n  <thead>\n    <tr style=\"text-align: right;\">\n      <th></th>\n      <th>filename</th>\n      <th>width</th>\n      <th>height</th>\n      <th>class</th>\n      <th>xmin</th>\n      <th>ymin</th>\n      <th>xmax</th>\n      <th>ymax</th>\n      <th>set</th>\n    </tr>\n  </thead>\n  <tbody>\n    <tr>\n      <th>0</th>\n      <td>paper183_jpg.rf.0a02cd08383d2d3c1c5ff1b465b3ad...</td>\n      <td>416</td>\n      <td>416</td>\n      <td>1</td>\n      <td>107</td>\n      <td>220</td>\n      <td>414</td>\n      <td>414</td>\n      <td>TEST</td>\n    </tr>\n    <tr>\n      <th>1</th>\n      <td>cardboard442_jpg.rf.a316f85a031314fcbb04af7d7d...</td>\n      <td>416</td>\n      <td>416</td>\n      <td>0</td>\n      <td>4</td>\n      <td>52</td>\n      <td>404</td>\n      <td>361</td>\n      <td>TRAIN</td>\n    </tr>\n    <tr>\n      <th>2</th>\n      <td>cardboard1299_jpg.rf.8dc041efa9d5eb17dcdccb772...</td>\n      <td>416</td>\n      <td>416</td>\n      <td>0</td>\n      <td>52</td>\n      <td>104</td>\n      <td>221</td>\n      <td>364</td>\n      <td>TRAIN</td>\n    </tr>\n    <tr>\n      <th>3</th>\n      <td>paper2003_jpg.rf.ed53d988f025a95cd0ddc9a388b8c...</td>\n      <td>416</td>\n      <td>416</td>\n      <td>1</td>\n      <td>105</td>\n      <td>0</td>\n      <td>333</td>\n      <td>377</td>\n      <td>TEST</td>\n    </tr>\n    <tr>\n      <th>4</th>\n      <td>biodegradable456_jpg.rf.6796979e1bde834fe6d26c...</td>\n      <td>416</td>\n      <td>416</td>\n      <td>3</td>\n      <td>300</td>\n      <td>371</td>\n      <td>397</td>\n      <td>415</td>\n      <td>TEST</td>\n    </tr>\n    <tr>\n      <th>...</th>\n      <td>...</td>\n      <td>...</td>\n      <td>...</td>\n      <td>...</td>\n      <td>...</td>\n      <td>...</td>\n      <td>...</td>\n      <td>...</td>\n      <td>...</td>\n    </tr>\n    <tr>\n      <th>17555</th>\n      <td>biodegradable1644_jpg.rf.12fa4ef84042e676e4ae5...</td>\n      <td>416</td>\n      <td>416</td>\n      <td>3</td>\n      <td>166</td>\n      <td>18</td>\n      <td>200</td>\n      <td>59</td>\n      <td>TRAIN</td>\n    </tr>\n    <tr>\n      <th>17556</th>\n      <td>glass1743_jpg.rf.386f202fe224a7bb2f2223cdb504d...</td>\n      <td>416</td>\n      <td>416</td>\n      <td>2</td>\n      <td>222</td>\n      <td>30</td>\n      <td>362</td>\n      <td>387</td>\n      <td>VAL</td>\n    </tr>\n    <tr>\n      <th>17557</th>\n      <td>glass1584_jpg.rf.5de7d2435d1ee4c4872de7b67ec5a...</td>\n      <td>416</td>\n      <td>416</td>\n      <td>2</td>\n      <td>154</td>\n      <td>304</td>\n      <td>320</td>\n      <td>411</td>\n      <td>TRAIN</td>\n    </tr>\n    <tr>\n      <th>17558</th>\n      <td>paper1025_jpg.rf.6081505db67655fcd54d3a0da076c...</td>\n      <td>416</td>\n      <td>416</td>\n      <td>1</td>\n      <td>305</td>\n      <td>125</td>\n      <td>395</td>\n      <td>320</td>\n      <td>TRAIN</td>\n    </tr>\n    <tr>\n      <th>17559</th>\n      <td>glass2269_jpg.rf.4d46c78a096bbe2b28c97930c8d8f...</td>\n      <td>416</td>\n      <td>416</td>\n      <td>2</td>\n      <td>339</td>\n      <td>18</td>\n      <td>365</td>\n      <td>39</td>\n      <td>TRAIN</td>\n    </tr>\n  </tbody>\n</table>\n<p>17560 rows × 9 columns</p>\n</div>"
     },
     "execution_count": 397,
     "metadata": {},
     "output_type": "execute_result"
    }
   ],
   "source": [
    "balanced_data.to_csv('data/annotations.csv', index=False)\n",
    "balanced_data"
   ],
   "metadata": {
    "collapsed": false,
    "ExecuteTime": {
     "end_time": "2024-01-07T02:05:57.968647810Z",
     "start_time": "2024-01-07T02:05:57.921751025Z"
    }
   },
   "id": "d461d33dc60b2d6a",
   "execution_count": 397
  },
  {
   "cell_type": "code",
   "outputs": [],
   "source": [],
   "metadata": {
    "collapsed": false,
    "ExecuteTime": {
     "end_time": "2024-01-07T02:05:57.970707338Z",
     "start_time": "2024-01-07T02:05:57.968627682Z"
    }
   },
   "id": "2ac76d921975d2e5",
   "execution_count": 397
  }
 ],
 "metadata": {
  "kernelspec": {
   "display_name": "Python 3",
   "language": "python",
   "name": "python3"
  },
  "language_info": {
   "codemirror_mode": {
    "name": "ipython",
    "version": 2
   },
   "file_extension": ".py",
   "mimetype": "text/x-python",
   "name": "python",
   "nbconvert_exporter": "python",
   "pygments_lexer": "ipython2",
   "version": "2.7.6"
  }
 },
 "nbformat": 4,
 "nbformat_minor": 5
}
