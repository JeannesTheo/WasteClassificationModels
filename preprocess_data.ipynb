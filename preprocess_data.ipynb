{
 "cells": [
  {
   "cell_type": "code",
   "outputs": [],
   "source": [
    "import numpy as np\n",
    "import pandas as pd\n",
    "import shutil\n",
    "from roboflow import Roboflow\n",
    "import os\n",
    "import re"
   ],
   "metadata": {
    "collapsed": false,
    "ExecuteTime": {
     "end_time": "2024-01-08T06:24:11.172706392Z",
     "start_time": "2024-01-08T06:24:11.153555066Z"
    }
   },
   "id": "788651877d007054",
   "execution_count": 7
  },
  {
   "cell_type": "code",
   "outputs": [],
   "source": [
    "def clean_up(integral=False):\n",
    "    if os.path.exists('GARBAGE-CLASSIFICATION-3-2'):\n",
    "        shutil.rmtree('GARBAGE-CLASSIFICATION-3-2')\n",
    "    if integral:\n",
    "        if os.path.exists('data'):\n",
    "            shutil.rmtree('data')\n",
    "    else:\n",
    "        for file in os.listdir('data'):\n",
    "            file = os.path.join('data', file)\n",
    "            if os.path.isfile(file):\n",
    "                os.remove(file)\n",
    "\n",
    "def move_files_recursively(src,dest='data',files=None):\n",
    "    if not os.path.exists(dest):\n",
    "        os.makedirs(dest)\n",
    "    files_to_move = []\n",
    "    if files is None:\n",
    "        for root, dirs, files in os.walk(src):\n",
    "            for file in files:\n",
    "                if file.endswith('.jpg'):\n",
    "                    files_to_move.append(os.path.join(root, file))\n",
    "    else:\n",
    "        interesting_files = list(set(files) & set(os.listdir(src)))\n",
    "        for file in interesting_files:\n",
    "            files_to_move.append(os.path.join(src, file))\n",
    "    for file in files_to_move:\n",
    "        shutil.move(file, dest)"
   ],
   "metadata": {
    "collapsed": false,
    "ExecuteTime": {
     "end_time": "2024-01-08T06:24:11.178273667Z",
     "start_time": "2024-01-08T06:24:11.171809244Z"
    }
   },
   "id": "93081d68ef779394",
   "execution_count": 8
  },
  {
   "cell_type": "code",
   "outputs": [
    {
     "name": "stdout",
     "output_type": "stream",
     "text": [
      "loading Roboflow workspace...\n",
      "loading Roboflow project...\n"
     ]
    },
    {
     "name": "stderr",
     "output_type": "stream",
     "text": [
      "Downloading Dataset Version Zip in GARBAGE-CLASSIFICATION-3-2 to tensorflow:: 100%|██████████| 204830/204830 [00:09<00:00, 21436.70it/s]"
     ]
    },
    {
     "name": "stdout",
     "output_type": "stream",
     "text": []
    },
    {
     "name": "stderr",
     "output_type": "stream",
     "text": [
      "\n",
      "Extracting Dataset Version Zip to GARBAGE-CLASSIFICATION-3-2 in tensorflow:: 100%|██████████| 10472/10472 [00:00<00:00, 16144.69it/s]\n"
     ]
    }
   ],
   "source": [
    "clean_up(True)\n",
    "rf = Roboflow(api_key=\"PYZngL70ijcagLdXpb6l\")\n",
    "project = rf.workspace(\"material-identification\").project(\"garbage-classification-3\")\n",
    "dataset = project.version(2).download(\"tensorflow\")"
   ],
   "metadata": {
    "collapsed": false,
    "ExecuteTime": {
     "end_time": "2024-01-08T06:24:25.493001235Z",
     "start_time": "2024-01-08T06:24:11.175392406Z"
    }
   },
   "id": "d3b0893d6578dc04",
   "execution_count": 9
  },
  {
   "cell_type": "code",
   "outputs": [],
   "source": [
    "train = pd.read_csv('GARBAGE-CLASSIFICATION-3-2/train/_annotations.csv')\n",
    "test = pd.read_csv('GARBAGE-CLASSIFICATION-3-2/test/_annotations.csv')\n",
    "val = pd.read_csv('GARBAGE-CLASSIFICATION-3-2/valid/_annotations.csv')\n",
    "combined_data = pd.concat([train, test, val], ignore_index=True)"
   ],
   "metadata": {
    "collapsed": false,
    "ExecuteTime": {
     "end_time": "2024-01-08T06:24:25.564372842Z",
     "start_time": "2024-01-08T06:24:25.494933151Z"
    }
   },
   "id": "9b45bcc2cba547b4",
   "execution_count": 10
  },
  {
   "cell_type": "code",
   "outputs": [],
   "source": [
    "move_files_recursively('GARBAGE-CLASSIFICATION-3-2')"
   ],
   "metadata": {
    "collapsed": false,
    "ExecuteTime": {
     "end_time": "2024-01-08T06:24:25.775328957Z",
     "start_time": "2024-01-08T06:24:25.565266669Z"
    }
   },
   "id": "ee571a77fdb721a3",
   "execution_count": 11
  },
  {
   "cell_type": "code",
   "outputs": [
    {
     "data": {
      "text/plain": "class\nBIODEGRADABLE              45407\nMETAL_CARDBOARD_PLASTIC    16484\nGLASS                       7809\nPAPER                       4390\nName: count, dtype: int64"
     },
     "execution_count": 12,
     "metadata": {},
     "output_type": "execute_result"
    }
   ],
   "source": [
    "map_classes = {\n",
    "    'METAL': 'METAL_CARDBOARD_PLASTIC',\n",
    "    'CARDBOARD': 'METAL_CARDBOARD_PLASTIC',\n",
    "    'PLASTIC': 'METAL_CARDBOARD_PLASTIC',\n",
    "    'PAPER': 'PAPER',\n",
    "    'GLASS': 'GLASS',\n",
    "    'BIODEGRADABLE': 'BIODEGRADABLE'\n",
    "}\n",
    "def get_class(c):\n",
    "    for key in map_classes.keys():\n",
    "        if key==c:\n",
    "            return map_classes.get(key)\n",
    "    return c\n",
    "\n",
    "def remove_until_char(input_string,remove_char,include_char=True):\n",
    "    match = re.search(remove_char, input_string)\n",
    "    if match:\n",
    "        return input_string[match.start() + 1 if include_char else 0:]\n",
    "    return input_string\n",
    "\n",
    "def get_set_name(ratios=None):\n",
    "    if ratios is None:\n",
    "        ratios = [0.6, 0.25, 0.15]\n",
    "    rand = np.random.uniform()\n",
    "    if rand <= ratios[0]:\n",
    "        set_name = 'TRAIN'\n",
    "    elif rand <= ratios[0] + ratios[1]:\n",
    "        set_name = 'TEST'\n",
    "    else:\n",
    "        set_name = 'VAL'\n",
    "    return set_name\n",
    "\n",
    "def edit_row(row):\n",
    "    row['class'] = get_class(row['class'])\n",
    "    return row\n",
    "\n",
    "for index, row in combined_data.iterrows():\n",
    "    combined_data.loc[index] = edit_row(row)\n",
    "\n",
    "classes_occurences = combined_data['class'].value_counts()    \n",
    "classes_occurences"
   ],
   "metadata": {
    "collapsed": false,
    "ExecuteTime": {
     "end_time": "2024-01-08T06:24:48.211790241Z",
     "start_time": "2024-01-08T06:24:25.788647866Z"
    }
   },
   "id": "8638fd880f5dfd9c",
   "execution_count": 12
  },
  {
   "cell_type": "code",
   "outputs": [
    {
     "name": "stdout",
     "output_type": "stream",
     "text": [
      "Balanced dataframe shape: (17560, 8)\n",
      "Balanced dataframe shape shuffled: (17560, 8)\n"
     ]
    }
   ],
   "source": [
    "balanced_data = pd.DataFrame(columns=combined_data.columns)\n",
    "for class_label in combined_data['class'].unique():\n",
    "    class_samples = combined_data[combined_data['class'] == class_label].head(np.min(classes_occurences))\n",
    "    balanced_data = pd.concat([balanced_data, class_samples], ignore_index=True)\n",
    "print(f'Balanced dataframe shape: {balanced_data.shape}')\n",
    "balanced_data = balanced_data.sample(frac=1).reset_index(drop=True)\n",
    "print(f'Balanced dataframe shape shuffled: {balanced_data.shape}')"
   ],
   "metadata": {
    "collapsed": false,
    "ExecuteTime": {
     "end_time": "2024-01-08T06:24:48.251217487Z",
     "start_time": "2024-01-08T06:24:48.214818511Z"
    }
   },
   "id": "a9a209ad608f7603",
   "execution_count": 13
  },
  {
   "cell_type": "code",
   "outputs": [
    {
     "name": "stdout",
     "output_type": "stream",
     "text": [
      "Processed 1/17560\n",
      "Processed 1001/17560\n",
      "Processed 2001/17560\n",
      "Processed 3001/17560\n"
     ]
    }
   ],
   "source": [
    "ratios = [0.6, 0.25, 0.15]\n",
    "cleansed_data = pd.DataFrame(columns=['set','filename','label','xmin_relative','ymin_relative','1','2','xmax_relative','ymax_relative','3','4'])\n",
    "for index, row in balanced_data.iterrows():\n",
    "    width = row['width']\n",
    "    height = row['height']\n",
    "    row['xmin_relative'] = row['xmin'] / width\n",
    "    row['ymin_relative'] = row['ymin'] / height\n",
    "    row['xmax_relative'] = row['xmax'] / width\n",
    "    row['ymax_relative'] = row['ymax'] / height\n",
    "    row['set'] = get_set_name(ratios)\n",
    "    row['1'] = None\n",
    "    row['2'] = None\n",
    "    row['3'] = None\n",
    "    row['4'] = None\n",
    "    cleansed_data.loc[index] = row[['set','filename','class','xmin_relative','ymin_relative','1','2','xmax_relative','ymax_relative','3','4']]\n",
    "    if index % 1000 == 0:\n",
    "        print(f'Processed {index+1}/{balanced_data.shape[0]}')"
   ],
   "metadata": {
    "collapsed": false,
    "is_executing": true,
    "ExecuteTime": {
     "start_time": "2024-01-08T06:30:30.796842763Z"
    }
   },
   "id": "129d634a9981d216",
   "execution_count": null
  },
  {
   "cell_type": "code",
   "outputs": [],
   "source": [
    "cleansed_data.head().to_csv('data/annotations.csv', index=False)\n",
    "cleansed_data"
   ],
   "metadata": {
    "collapsed": false,
    "ExecuteTime": {
     "end_time": "2024-01-08T06:24:48.807081412Z",
     "start_time": "2024-01-08T06:24:48.757123039Z"
    }
   },
   "id": "d461d33dc60b2d6a",
   "execution_count": null
  },
  {
   "cell_type": "code",
   "outputs": [],
   "source": [
    "# set,filename,class,xmin_relative,ymin_relative,_,_,xmax_relative,ymax_relative,_,_\n",
    "# VAL,paper1698_jpeg.rf.8f9209f8db6c8217bb3a22c65cf69f9c.jpg,1,0,0,,,1,1,,\n",
    "# TRAIN,paper305_jpg.rf.fe50060e4ff619ccfca8ece48dd09355.jpg,1,.06,.02,,,.59,.34,,\n",
    "# TEST,paper1174_jpg.rf.482d3389b117a5af7a4f1a9696701419.jpg,1,.21,.13,,,.77,.35,,\n",
    "# TEST,paper1230_jpg.rf.29a95d9839e17dd1e4b822fbb360074e.jpg,1,0,0,,,.74,.87,,\n",
    "# TRAIN,biodegradable2166_jpeg.rf.7b649a31ebc54f2d1df322d4ebe6975d.jpg,3,.69,.53,,,.74,.58,,"
   ],
   "metadata": {
    "collapsed": false,
    "ExecuteTime": {
     "start_time": "2024-01-08T06:24:48.798852511Z"
    }
   },
   "id": "93680b7215e58ce3",
   "execution_count": null
  }
 ],
 "metadata": {
  "kernelspec": {
   "display_name": "Python 3",
   "language": "python",
   "name": "python3"
  },
  "language_info": {
   "codemirror_mode": {
    "name": "ipython",
    "version": 2
   },
   "file_extension": ".py",
   "mimetype": "text/x-python",
   "name": "python",
   "nbconvert_exporter": "python",
   "pygments_lexer": "ipython2",
   "version": "2.7.6"
  }
 },
 "nbformat": 4,
 "nbformat_minor": 5
}
